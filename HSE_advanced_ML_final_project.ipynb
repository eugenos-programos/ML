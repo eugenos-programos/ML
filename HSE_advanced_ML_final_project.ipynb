{
 "cells": [
  {
   "cell_type": "markdown",
   "metadata": {},
   "source": [
    "# Финальный проект\n",
    "\n",
    "Финальный проект на курсе по машинному обучению на курсере"
   ]
  },
  {
   "cell_type": "markdown",
   "metadata": {},
   "source": [
    "В этом ноутбуке предлагается решать задачу предсказания средней цены квадратного метра жилья в некоторых районах Москвы и Московской области. В качестве метрики будем использовать MAPE.\n",
    "\n",
    "MAPE (Mean Absolute Percentage Error) = $\\dfrac{1}{\\ell}\\sum\\limits_{i=1}^{\\ell} \\left| \\dfrac{y_i - a(x_i)}{y_i} \\right|$"
   ]
  },
  {
   "cell_type": "markdown",
   "metadata": {},
   "source": [
    "## Импорт библиотек и чтение данных"
   ]
  },
  {
   "cell_type": "code",
   "execution_count": 1,
   "metadata": {
    "ExecuteTime": {
     "end_time": "2021-08-23T17:36:06.001800Z",
     "start_time": "2021-08-23T17:36:05.516799Z"
    }
   },
   "outputs": [],
   "source": [
    "import pandas as pd\n",
    "import numpy as np\n",
    "\n",
    "import matplotlib.pyplot as plt\n",
    "import seaborn as sns\n",
    "\n",
    "sns.set(style='darkgrid', rc={'figure.figsize': (16, 8)})\n",
    "\n",
    "pd.options.display.max_columns = 100"
   ]
  },
  {
   "cell_type": "code",
   "execution_count": 2,
   "metadata": {
    "ExecuteTime": {
     "end_time": "2021-08-23T17:36:10.246725Z",
     "start_time": "2021-08-23T17:36:09.938360Z"
    }
   },
   "outputs": [],
   "source": [
    "train = pd.read_csv('train.csv')\n",
    "test = pd.read_csv('test.csv')\n",
    "\n",
    "housebase = pd.read_csv('housebase.csv')"
   ]
  },
  {
   "cell_type": "code",
   "execution_count": 3,
   "metadata": {
    "ExecuteTime": {
     "end_time": "2021-08-23T17:36:10.818686Z",
     "start_time": "2021-08-23T17:36:10.809597Z"
    }
   },
   "outputs": [],
   "source": [
    "housebase = housebase.sample(10000, replace=False)"
   ]
  },
  {
   "cell_type": "markdown",
   "metadata": {},
   "source": [
    "### train.csv и test.csv\n",
    "\n",
    "Описание полей в файлах train.csv и test.csv:\n",
    "\n",
    "**month** - месяц, за который указаны данные в датасете\n",
    "\n",
    "**city_quadkey** - полигон, его координаты можно его узнать из скрипта quadkey.py\n",
    "\n",
    "**apartment_ratio** - доля квартир в этом районе в этом месяце со статусом \"апартаменты\"\n",
    "\n",
    "**offers_in_sites_ratio** - доля офферов в ЖК в этом районе в этом месяце\n",
    "\n",
    "**studio_ratio** - доля объявлений о продаже студии среди всех объявлений в этом районе в этом месяце\n",
    "\n",
    "**rooms_offered_*_ratio** - доля квартир указанной в * комнатности от всех квартир в продаже в этом районе в этом месяце\n",
    "\n",
    "**unique_active_buildings_count** - количество домов, в которых есть квартиры в продаже в этом районе в этом месяце\n",
    "\n",
    "**unique_active_building_series_count** - количество уникальных серий домов, в которых есть квартиры в продаже в этом районе в этом месяце\n",
    "\n",
    "**total_area_avg** - средний метраж продаваемой квартиры в этом районе в этом месяце\n",
    "\n",
    "**offer_count** - число объявлений о продаже квартир в этом районе в этом месяце\n",
    "\n",
    "**avg_price_sqm** - средняя цена за квадратный метр в этом районе в этом месяце"
   ]
  },
  {
   "cell_type": "markdown",
   "metadata": {},
   "source": [
    "### housebase.csv\n",
    "\n",
    "Описание полей в датасете про базу домов housebase.csv:\n",
    "\n",
    "**city_quadkey** - полигон, его координаты можно его узнать из скрипта quadkey.py\n",
    "\n",
    "**building_id** - id дома\n",
    "\n",
    "**building_series_id** - id серии дома\n",
    "\n",
    "**unified_address** - адрес дома\n",
    "\n",
    "**latitude, longitude** - координаты дома\n",
    "\n",
    "**flats_count** - количество квартир в доме\n",
    "\n",
    "**has_elevator** - наличие лифта в доме\n",
    "\n",
    "**ceiling_height** - высота потолков в доме\n",
    "\n",
    "**build_year** - год постройки дома\n",
    "\n",
    "**expect_demolition** - дом входит в программу реновации и ожидает сноса\n",
    "\n",
    "**art_cnt** - количество организаций в сфере искусства (музеи, галереи и т.п.) в этом районе city_quadkey\n",
    "\n",
    "**beauty_cnt** - количество салонов красоты в этом районе city_quadkey\n",
    "\n",
    "**cafe_restaurant_eating_out_cnt** - количество точек общественного питания в этом районе city_quadkey\n",
    "\n",
    "**chain_cnt** - количество сетевых организаций в этом районе city_quadkey\n",
    "\n",
    "**entertainment_cnt** - количество организаций в сфере развлечений в этом районе city_quadkey\n",
    "\n",
    "**groceries_and_everyday_items_cnt** - количество продуктовых магазинов в этом районе city_quadkey\n",
    "\n",
    "**healthcare_cnt** - количество организаций в сфере здравоохранения в этом районе city_quadkey\n",
    "\n",
    "**laundry_and_repair_services_cnt** - количество прачечных и ремонтных мастерских в этом районе city_quadkey\n",
    "\n",
    "**shopping_cnt** - количество магазинов в этом районе city_quadkey\n",
    "\n",
    "**sport_cnt** - количество спортивных организаций в этом районе city_quadkey"
   ]
  },
  {
   "cell_type": "code",
   "execution_count": 4,
   "metadata": {
    "ExecuteTime": {
     "end_time": "2021-08-23T17:35:11.870860Z",
     "start_time": "2021-08-23T17:35:11.858289Z"
    }
   },
   "outputs": [
    {
     "data": {
      "text/html": [
       "<div>\n",
       "<style scoped>\n",
       "    .dataframe tbody tr th:only-of-type {\n",
       "        vertical-align: middle;\n",
       "    }\n",
       "\n",
       "    .dataframe tbody tr th {\n",
       "        vertical-align: top;\n",
       "    }\n",
       "\n",
       "    .dataframe thead th {\n",
       "        text-align: right;\n",
       "    }\n",
       "</style>\n",
       "<table border=\"1\" class=\"dataframe\">\n",
       "  <thead>\n",
       "    <tr style=\"text-align: right;\">\n",
       "      <th></th>\n",
       "      <th>month</th>\n",
       "      <th>city_quadkey</th>\n",
       "      <th>apartment_ratio</th>\n",
       "      <th>offers_in_sites_ratio</th>\n",
       "      <th>studio_ratio</th>\n",
       "      <th>rooms_offered_1_ratio</th>\n",
       "      <th>rooms_offered_2_ratio</th>\n",
       "      <th>rooms_offered_3_ratio</th>\n",
       "      <th>rooms_offered_4_more_ratio</th>\n",
       "      <th>total_area_avg</th>\n",
       "      <th>unique_active_buildings_count</th>\n",
       "      <th>unique_active_building_series_count</th>\n",
       "      <th>offer_count</th>\n",
       "      <th>avg_price_sqm</th>\n",
       "      <th>season</th>\n",
       "    </tr>\n",
       "  </thead>\n",
       "  <tbody>\n",
       "    <tr>\n",
       "      <th>0</th>\n",
       "      <td>2017-09-01</td>\n",
       "      <td>120310101003320</td>\n",
       "      <td>0.0</td>\n",
       "      <td>0.0</td>\n",
       "      <td>0.000000</td>\n",
       "      <td>0.666667</td>\n",
       "      <td>0.000000</td>\n",
       "      <td>0.333333</td>\n",
       "      <td>0.000000</td>\n",
       "      <td>46.000000</td>\n",
       "      <td>1</td>\n",
       "      <td>1</td>\n",
       "      <td>3</td>\n",
       "      <td>109930.356771</td>\n",
       "      <td>fall</td>\n",
       "    </tr>\n",
       "    <tr>\n",
       "      <th>1</th>\n",
       "      <td>2018-02-01</td>\n",
       "      <td>120310102131112</td>\n",
       "      <td>0.0</td>\n",
       "      <td>0.0</td>\n",
       "      <td>0.000000</td>\n",
       "      <td>0.600000</td>\n",
       "      <td>0.200000</td>\n",
       "      <td>0.000000</td>\n",
       "      <td>0.200000</td>\n",
       "      <td>60.760000</td>\n",
       "      <td>4</td>\n",
       "      <td>2</td>\n",
       "      <td>5</td>\n",
       "      <td>75599.835938</td>\n",
       "      <td>winter</td>\n",
       "    </tr>\n",
       "    <tr>\n",
       "      <th>2</th>\n",
       "      <td>2018-10-01</td>\n",
       "      <td>120310121201212</td>\n",
       "      <td>0.0</td>\n",
       "      <td>0.0</td>\n",
       "      <td>0.047619</td>\n",
       "      <td>0.349206</td>\n",
       "      <td>0.428571</td>\n",
       "      <td>0.206349</td>\n",
       "      <td>0.015873</td>\n",
       "      <td>51.480952</td>\n",
       "      <td>13</td>\n",
       "      <td>2</td>\n",
       "      <td>63</td>\n",
       "      <td>48865.313027</td>\n",
       "      <td>fall</td>\n",
       "    </tr>\n",
       "    <tr>\n",
       "      <th>3</th>\n",
       "      <td>2017-09-01</td>\n",
       "      <td>120310101102202</td>\n",
       "      <td>0.0</td>\n",
       "      <td>0.0</td>\n",
       "      <td>0.000000</td>\n",
       "      <td>0.486486</td>\n",
       "      <td>0.243243</td>\n",
       "      <td>0.270270</td>\n",
       "      <td>0.000000</td>\n",
       "      <td>49.237838</td>\n",
       "      <td>15</td>\n",
       "      <td>8</td>\n",
       "      <td>37</td>\n",
       "      <td>155280.097128</td>\n",
       "      <td>fall</td>\n",
       "    </tr>\n",
       "    <tr>\n",
       "      <th>4</th>\n",
       "      <td>2017-01-01</td>\n",
       "      <td>120310101102301</td>\n",
       "      <td>0.0</td>\n",
       "      <td>0.0</td>\n",
       "      <td>0.000000</td>\n",
       "      <td>0.513514</td>\n",
       "      <td>0.324324</td>\n",
       "      <td>0.135135</td>\n",
       "      <td>0.027027</td>\n",
       "      <td>48.313513</td>\n",
       "      <td>15</td>\n",
       "      <td>8</td>\n",
       "      <td>37</td>\n",
       "      <td>157609.437711</td>\n",
       "      <td>winter</td>\n",
       "    </tr>\n",
       "  </tbody>\n",
       "</table>\n",
       "</div>"
      ],
      "text/plain": [
       "        month     city_quadkey  apartment_ratio  offers_in_sites_ratio  \\\n",
       "0  2017-09-01  120310101003320              0.0                    0.0   \n",
       "1  2018-02-01  120310102131112              0.0                    0.0   \n",
       "2  2018-10-01  120310121201212              0.0                    0.0   \n",
       "3  2017-09-01  120310101102202              0.0                    0.0   \n",
       "4  2017-01-01  120310101102301              0.0                    0.0   \n",
       "\n",
       "   studio_ratio  rooms_offered_1_ratio  rooms_offered_2_ratio  \\\n",
       "0      0.000000               0.666667               0.000000   \n",
       "1      0.000000               0.600000               0.200000   \n",
       "2      0.047619               0.349206               0.428571   \n",
       "3      0.000000               0.486486               0.243243   \n",
       "4      0.000000               0.513514               0.324324   \n",
       "\n",
       "   rooms_offered_3_ratio  rooms_offered_4_more_ratio  total_area_avg  \\\n",
       "0               0.333333                    0.000000       46.000000   \n",
       "1               0.000000                    0.200000       60.760000   \n",
       "2               0.206349                    0.015873       51.480952   \n",
       "3               0.270270                    0.000000       49.237838   \n",
       "4               0.135135                    0.027027       48.313513   \n",
       "\n",
       "   unique_active_buildings_count  unique_active_building_series_count  \\\n",
       "0                              1                                    1   \n",
       "1                              4                                    2   \n",
       "2                             13                                    2   \n",
       "3                             15                                    8   \n",
       "4                             15                                    8   \n",
       "\n",
       "   offer_count  avg_price_sqm  season  \n",
       "0            3  109930.356771    fall  \n",
       "1            5   75599.835938  winter  \n",
       "2           63   48865.313027    fall  \n",
       "3           37  155280.097128    fall  \n",
       "4           37  157609.437711  winter  "
      ]
     },
     "execution_count": 4,
     "metadata": {},
     "output_type": "execute_result"
    }
   ],
   "source": [
    "train.head()"
   ]
  },
  {
   "cell_type": "code",
   "execution_count": 5,
   "metadata": {
    "ExecuteTime": {
     "end_time": "2021-08-23T17:35:12.063035Z",
     "start_time": "2021-08-23T17:35:12.053100Z"
    }
   },
   "outputs": [
    {
     "data": {
      "text/html": [
       "<div>\n",
       "<style scoped>\n",
       "    .dataframe tbody tr th:only-of-type {\n",
       "        vertical-align: middle;\n",
       "    }\n",
       "\n",
       "    .dataframe tbody tr th {\n",
       "        vertical-align: top;\n",
       "    }\n",
       "\n",
       "    .dataframe thead th {\n",
       "        text-align: right;\n",
       "    }\n",
       "</style>\n",
       "<table border=\"1\" class=\"dataframe\">\n",
       "  <thead>\n",
       "    <tr style=\"text-align: right;\">\n",
       "      <th></th>\n",
       "      <th>month</th>\n",
       "      <th>city_quadkey</th>\n",
       "      <th>apartment_ratio</th>\n",
       "      <th>offers_in_sites_ratio</th>\n",
       "      <th>studio_ratio</th>\n",
       "      <th>rooms_offered_1_ratio</th>\n",
       "      <th>rooms_offered_2_ratio</th>\n",
       "      <th>rooms_offered_3_ratio</th>\n",
       "      <th>rooms_offered_4_more_ratio</th>\n",
       "      <th>total_area_avg</th>\n",
       "      <th>unique_active_buildings_count</th>\n",
       "      <th>unique_active_building_series_count</th>\n",
       "      <th>offer_count</th>\n",
       "      <th>avg_price_sqm</th>\n",
       "      <th>season</th>\n",
       "    </tr>\n",
       "  </thead>\n",
       "  <tbody>\n",
       "    <tr>\n",
       "      <th>0</th>\n",
       "      <td>2019-07-01</td>\n",
       "      <td>120310101312123</td>\n",
       "      <td>0.0</td>\n",
       "      <td>0.0</td>\n",
       "      <td>0.155556</td>\n",
       "      <td>0.288889</td>\n",
       "      <td>0.288889</td>\n",
       "      <td>0.400000</td>\n",
       "      <td>0.022222</td>\n",
       "      <td>57.248889</td>\n",
       "      <td>16</td>\n",
       "      <td>5</td>\n",
       "      <td>45</td>\n",
       "      <td>165260.927257</td>\n",
       "      <td>summer</td>\n",
       "    </tr>\n",
       "    <tr>\n",
       "      <th>1</th>\n",
       "      <td>2019-03-01</td>\n",
       "      <td>120310101021111</td>\n",
       "      <td>0.0</td>\n",
       "      <td>0.0</td>\n",
       "      <td>0.000000</td>\n",
       "      <td>0.142857</td>\n",
       "      <td>0.400000</td>\n",
       "      <td>0.400000</td>\n",
       "      <td>0.057143</td>\n",
       "      <td>58.271429</td>\n",
       "      <td>18</td>\n",
       "      <td>9</td>\n",
       "      <td>35</td>\n",
       "      <td>183111.316071</td>\n",
       "      <td>spring</td>\n",
       "    </tr>\n",
       "    <tr>\n",
       "      <th>2</th>\n",
       "      <td>2019-07-01</td>\n",
       "      <td>120310130131211</td>\n",
       "      <td>0.0</td>\n",
       "      <td>0.0</td>\n",
       "      <td>0.000000</td>\n",
       "      <td>0.000000</td>\n",
       "      <td>1.000000</td>\n",
       "      <td>0.000000</td>\n",
       "      <td>0.000000</td>\n",
       "      <td>53.000000</td>\n",
       "      <td>1</td>\n",
       "      <td>1</td>\n",
       "      <td>1</td>\n",
       "      <td>33962.265625</td>\n",
       "      <td>summer</td>\n",
       "    </tr>\n",
       "    <tr>\n",
       "      <th>3</th>\n",
       "      <td>2019-03-01</td>\n",
       "      <td>120310101012003</td>\n",
       "      <td>0.0</td>\n",
       "      <td>0.0</td>\n",
       "      <td>0.002732</td>\n",
       "      <td>0.265027</td>\n",
       "      <td>0.333333</td>\n",
       "      <td>0.245902</td>\n",
       "      <td>0.153005</td>\n",
       "      <td>87.658033</td>\n",
       "      <td>20</td>\n",
       "      <td>3</td>\n",
       "      <td>366</td>\n",
       "      <td>118424.849983</td>\n",
       "      <td>spring</td>\n",
       "    </tr>\n",
       "    <tr>\n",
       "      <th>4</th>\n",
       "      <td>2019-01-01</td>\n",
       "      <td>120310101221032</td>\n",
       "      <td>0.0</td>\n",
       "      <td>0.0</td>\n",
       "      <td>0.000000</td>\n",
       "      <td>0.187500</td>\n",
       "      <td>0.625000</td>\n",
       "      <td>0.187500</td>\n",
       "      <td>0.000000</td>\n",
       "      <td>47.000000</td>\n",
       "      <td>8</td>\n",
       "      <td>4</td>\n",
       "      <td>16</td>\n",
       "      <td>145717.792480</td>\n",
       "      <td>winter</td>\n",
       "    </tr>\n",
       "  </tbody>\n",
       "</table>\n",
       "</div>"
      ],
      "text/plain": [
       "        month     city_quadkey  apartment_ratio  offers_in_sites_ratio  \\\n",
       "0  2019-07-01  120310101312123              0.0                    0.0   \n",
       "1  2019-03-01  120310101021111              0.0                    0.0   \n",
       "2  2019-07-01  120310130131211              0.0                    0.0   \n",
       "3  2019-03-01  120310101012003              0.0                    0.0   \n",
       "4  2019-01-01  120310101221032              0.0                    0.0   \n",
       "\n",
       "   studio_ratio  rooms_offered_1_ratio  rooms_offered_2_ratio  \\\n",
       "0      0.155556               0.288889               0.288889   \n",
       "1      0.000000               0.142857               0.400000   \n",
       "2      0.000000               0.000000               1.000000   \n",
       "3      0.002732               0.265027               0.333333   \n",
       "4      0.000000               0.187500               0.625000   \n",
       "\n",
       "   rooms_offered_3_ratio  rooms_offered_4_more_ratio  total_area_avg  \\\n",
       "0               0.400000                    0.022222       57.248889   \n",
       "1               0.400000                    0.057143       58.271429   \n",
       "2               0.000000                    0.000000       53.000000   \n",
       "3               0.245902                    0.153005       87.658033   \n",
       "4               0.187500                    0.000000       47.000000   \n",
       "\n",
       "   unique_active_buildings_count  unique_active_building_series_count  \\\n",
       "0                             16                                    5   \n",
       "1                             18                                    9   \n",
       "2                              1                                    1   \n",
       "3                             20                                    3   \n",
       "4                              8                                    4   \n",
       "\n",
       "   offer_count  avg_price_sqm  season  \n",
       "0           45  165260.927257  summer  \n",
       "1           35  183111.316071  spring  \n",
       "2            1   33962.265625  summer  \n",
       "3          366  118424.849983  spring  \n",
       "4           16  145717.792480  winter  "
      ]
     },
     "execution_count": 5,
     "metadata": {},
     "output_type": "execute_result"
    }
   ],
   "source": [
    "test.head()"
   ]
  },
  {
   "cell_type": "code",
   "execution_count": 6,
   "metadata": {
    "ExecuteTime": {
     "end_time": "2021-08-23T17:35:12.337805Z",
     "start_time": "2021-08-23T17:35:12.324351Z"
    }
   },
   "outputs": [
    {
     "data": {
      "text/html": [
       "<div>\n",
       "<style scoped>\n",
       "    .dataframe tbody tr th:only-of-type {\n",
       "        vertical-align: middle;\n",
       "    }\n",
       "\n",
       "    .dataframe tbody tr th {\n",
       "        vertical-align: top;\n",
       "    }\n",
       "\n",
       "    .dataframe thead th {\n",
       "        text-align: right;\n",
       "    }\n",
       "</style>\n",
       "<table border=\"1\" class=\"dataframe\">\n",
       "  <thead>\n",
       "    <tr style=\"text-align: right;\">\n",
       "      <th></th>\n",
       "      <th>city_quadkey</th>\n",
       "      <th>building_id</th>\n",
       "      <th>building_series_id</th>\n",
       "      <th>building_type</th>\n",
       "      <th>unified_address</th>\n",
       "      <th>latitude</th>\n",
       "      <th>longitude</th>\n",
       "      <th>flats_count</th>\n",
       "      <th>has_elevator</th>\n",
       "      <th>ceiling_height</th>\n",
       "      <th>build_year</th>\n",
       "      <th>expect_demolition</th>\n",
       "      <th>art_cnt</th>\n",
       "      <th>beauty_cnt</th>\n",
       "      <th>cafe_restaurant_eating_out_cnt</th>\n",
       "      <th>chain_cnt</th>\n",
       "      <th>entertainment_cnt</th>\n",
       "      <th>groceries_and_everyday_items_cnt</th>\n",
       "      <th>healthcare_cnt</th>\n",
       "      <th>laundry_and_repair_services_cnt</th>\n",
       "      <th>shopping_cnt</th>\n",
       "      <th>sport_cnt</th>\n",
       "    </tr>\n",
       "  </thead>\n",
       "  <tbody>\n",
       "    <tr>\n",
       "      <th>9984</th>\n",
       "      <td>120310131122202</td>\n",
       "      <td>2137625782024500323</td>\n",
       "      <td>0</td>\n",
       "      <td>NaN</td>\n",
       "      <td>Россия, Московская область, Луховицы, Новый пр...</td>\n",
       "      <td>54.972519</td>\n",
       "      <td>39.0275</td>\n",
       "      <td>3</td>\n",
       "      <td>0</td>\n",
       "      <td>NaN</td>\n",
       "      <td>1996.0</td>\n",
       "      <td>0</td>\n",
       "      <td>NaN</td>\n",
       "      <td>1.0</td>\n",
       "      <td>NaN</td>\n",
       "      <td>1.0</td>\n",
       "      <td>1.0</td>\n",
       "      <td>2.0</td>\n",
       "      <td>1.0</td>\n",
       "      <td>NaN</td>\n",
       "      <td>1.0</td>\n",
       "      <td>NaN</td>\n",
       "    </tr>\n",
       "  </tbody>\n",
       "</table>\n",
       "</div>"
      ],
      "text/plain": [
       "         city_quadkey          building_id  building_series_id building_type  \\\n",
       "9984  120310131122202  2137625782024500323                   0           NaN   \n",
       "\n",
       "                                        unified_address   latitude  longitude  \\\n",
       "9984  Россия, Московская область, Луховицы, Новый пр...  54.972519    39.0275   \n",
       "\n",
       "      flats_count  has_elevator  ceiling_height  build_year  \\\n",
       "9984            3             0             NaN      1996.0   \n",
       "\n",
       "      expect_demolition  art_cnt  beauty_cnt  cafe_restaurant_eating_out_cnt  \\\n",
       "9984                  0      NaN         1.0                             NaN   \n",
       "\n",
       "      chain_cnt  entertainment_cnt  groceries_and_everyday_items_cnt  \\\n",
       "9984        1.0                1.0                               2.0   \n",
       "\n",
       "      healthcare_cnt  laundry_and_repair_services_cnt  shopping_cnt  sport_cnt  \n",
       "9984             1.0                              NaN           1.0        NaN  "
      ]
     },
     "execution_count": 6,
     "metadata": {},
     "output_type": "execute_result"
    }
   ],
   "source": [
    "housebase.head(1)"
   ]
  },
  {
   "cell_type": "code",
   "execution_count": 7,
   "metadata": {
    "ExecuteTime": {
     "end_time": "2021-08-23T17:36:16.061417Z",
     "start_time": "2021-08-23T17:36:16.057426Z"
    }
   },
   "outputs": [
    {
     "data": {
      "text/plain": [
       "'Количество объектов в train 40000, в test 10000, количество записей в housebase 10000.'"
      ]
     },
     "execution_count": 7,
     "metadata": {},
     "output_type": "execute_result"
    }
   ],
   "source": [
    "f'Количество объектов в train {len(train)}, в test {len(test)}, количество записей в housebase {len(housebase)}.'"
   ]
  },
  {
   "cell_type": "markdown",
   "metadata": {},
   "source": [
    "## EDA"
   ]
  },
  {
   "cell_type": "markdown",
   "metadata": {},
   "source": [
    "Посмотрим есть ли пропуски в данных:"
   ]
  },
  {
   "cell_type": "code",
   "execution_count": 8,
   "metadata": {
    "ExecuteTime": {
     "end_time": "2021-08-23T17:36:17.169446Z",
     "start_time": "2021-08-23T17:36:17.162343Z"
    }
   },
   "outputs": [
    {
     "data": {
      "text/plain": [
       "month                                  0\n",
       "city_quadkey                           0\n",
       "apartment_ratio                        0\n",
       "offers_in_sites_ratio                  0\n",
       "studio_ratio                           0\n",
       "rooms_offered_1_ratio                  0\n",
       "rooms_offered_2_ratio                  0\n",
       "rooms_offered_3_ratio                  0\n",
       "rooms_offered_4_more_ratio             0\n",
       "total_area_avg                         0\n",
       "unique_active_buildings_count          0\n",
       "unique_active_building_series_count    0\n",
       "offer_count                            0\n",
       "avg_price_sqm                          0\n",
       "season                                 0\n",
       "dtype: int64"
      ]
     },
     "execution_count": 8,
     "metadata": {},
     "output_type": "execute_result"
    }
   ],
   "source": [
    "train.isna().sum()"
   ]
  },
  {
   "cell_type": "code",
   "execution_count": 9,
   "metadata": {
    "ExecuteTime": {
     "end_time": "2021-08-23T17:36:17.401956Z",
     "start_time": "2021-08-23T17:36:17.396647Z"
    }
   },
   "outputs": [
    {
     "data": {
      "text/plain": [
       "month                                  0\n",
       "city_quadkey                           0\n",
       "apartment_ratio                        0\n",
       "offers_in_sites_ratio                  0\n",
       "studio_ratio                           0\n",
       "rooms_offered_1_ratio                  0\n",
       "rooms_offered_2_ratio                  0\n",
       "rooms_offered_3_ratio                  0\n",
       "rooms_offered_4_more_ratio             0\n",
       "total_area_avg                         0\n",
       "unique_active_buildings_count          0\n",
       "unique_active_building_series_count    0\n",
       "offer_count                            0\n",
       "avg_price_sqm                          0\n",
       "season                                 0\n",
       "dtype: int64"
      ]
     },
     "execution_count": 9,
     "metadata": {},
     "output_type": "execute_result"
    }
   ],
   "source": [
    "test.isna().sum()"
   ]
  },
  {
   "cell_type": "code",
   "execution_count": 10,
   "metadata": {
    "ExecuteTime": {
     "end_time": "2021-08-23T17:36:17.947282Z",
     "start_time": "2021-08-23T17:36:17.941080Z"
    }
   },
   "outputs": [
    {
     "data": {
      "text/plain": [
       "city_quadkey                           0\n",
       "building_id                            0\n",
       "building_series_id                     0\n",
       "building_type                       1988\n",
       "unified_address                        0\n",
       "latitude                               0\n",
       "longitude                              0\n",
       "flats_count                            0\n",
       "has_elevator                           0\n",
       "ceiling_height                      5837\n",
       "build_year                          2634\n",
       "expect_demolition                      0\n",
       "art_cnt                             2452\n",
       "beauty_cnt                          2038\n",
       "cafe_restaurant_eating_out_cnt      2519\n",
       "chain_cnt                            634\n",
       "entertainment_cnt                   1131\n",
       "groceries_and_everyday_items_cnt     795\n",
       "healthcare_cnt                      1708\n",
       "laundry_and_repair_services_cnt     1208\n",
       "shopping_cnt                        1756\n",
       "sport_cnt                           1732\n",
       "dtype: int64"
      ]
     },
     "execution_count": 10,
     "metadata": {},
     "output_type": "execute_result"
    }
   ],
   "source": [
    "housebase.isna().sum()"
   ]
  },
  {
   "cell_type": "markdown",
   "metadata": {},
   "source": [
    "Посмотрим на типы колонок:"
   ]
  },
  {
   "cell_type": "code",
   "execution_count": 11,
   "metadata": {
    "ExecuteTime": {
     "end_time": "2021-08-23T17:26:29.100210Z",
     "start_time": "2021-08-23T17:26:29.096270Z"
    }
   },
   "outputs": [
    {
     "data": {
      "text/plain": [
       "month                                   object\n",
       "city_quadkey                             int64\n",
       "apartment_ratio                        float64\n",
       "offers_in_sites_ratio                  float64\n",
       "studio_ratio                           float64\n",
       "rooms_offered_1_ratio                  float64\n",
       "rooms_offered_2_ratio                  float64\n",
       "rooms_offered_3_ratio                  float64\n",
       "rooms_offered_4_more_ratio             float64\n",
       "total_area_avg                         float64\n",
       "unique_active_buildings_count            int64\n",
       "unique_active_building_series_count      int64\n",
       "offer_count                              int64\n",
       "avg_price_sqm                          float64\n",
       "season                                  object\n",
       "dtype: object"
      ]
     },
     "execution_count": 11,
     "metadata": {},
     "output_type": "execute_result"
    }
   ],
   "source": [
    "train.dtypes"
   ]
  },
  {
   "cell_type": "code",
   "execution_count": 12,
   "metadata": {
    "ExecuteTime": {
     "end_time": "2021-08-23T17:26:29.677746Z",
     "start_time": "2021-08-23T17:26:29.673935Z"
    }
   },
   "outputs": [
    {
     "data": {
      "text/plain": [
       "month                                   object\n",
       "city_quadkey                             int64\n",
       "apartment_ratio                        float64\n",
       "offers_in_sites_ratio                  float64\n",
       "studio_ratio                           float64\n",
       "rooms_offered_1_ratio                  float64\n",
       "rooms_offered_2_ratio                  float64\n",
       "rooms_offered_3_ratio                  float64\n",
       "rooms_offered_4_more_ratio             float64\n",
       "total_area_avg                         float64\n",
       "unique_active_buildings_count            int64\n",
       "unique_active_building_series_count      int64\n",
       "offer_count                              int64\n",
       "avg_price_sqm                          float64\n",
       "season                                  object\n",
       "dtype: object"
      ]
     },
     "execution_count": 12,
     "metadata": {},
     "output_type": "execute_result"
    }
   ],
   "source": [
    "test.dtypes"
   ]
  },
  {
   "cell_type": "code",
   "execution_count": 13,
   "metadata": {
    "ExecuteTime": {
     "end_time": "2021-08-23T17:26:30.565641Z",
     "start_time": "2021-08-23T17:26:30.561514Z"
    }
   },
   "outputs": [
    {
     "data": {
      "text/plain": [
       "city_quadkey                          int64\n",
       "building_id                           int64\n",
       "building_series_id                    int64\n",
       "building_type                        object\n",
       "unified_address                      object\n",
       "latitude                            float64\n",
       "longitude                           float64\n",
       "flats_count                           int64\n",
       "has_elevator                          int64\n",
       "ceiling_height                      float64\n",
       "build_year                          float64\n",
       "expect_demolition                     int64\n",
       "art_cnt                             float64\n",
       "beauty_cnt                          float64\n",
       "cafe_restaurant_eating_out_cnt      float64\n",
       "chain_cnt                           float64\n",
       "entertainment_cnt                   float64\n",
       "groceries_and_everyday_items_cnt    float64\n",
       "healthcare_cnt                      float64\n",
       "laundry_and_repair_services_cnt     float64\n",
       "shopping_cnt                        float64\n",
       "sport_cnt                           float64\n",
       "dtype: object"
      ]
     },
     "execution_count": 13,
     "metadata": {},
     "output_type": "execute_result"
    }
   ],
   "source": [
    "housebase.dtypes"
   ]
  },
  {
   "cell_type": "markdown",
   "metadata": {},
   "source": [
    "Разделим признаки на несколько групп:\n",
    "\n",
    "**-1:** `avg_price_sqm` (средняя цена, наша целевая переменная)\n",
    "\n",
    "**0:** `city_quadkey`, `month` (район и месяц, для чего мы предсказываем)\n",
    "\n",
    "**1:** `apartment_ratio`, `offers_in_sites_ratio`, `studio_ratio`, `rooms_offered_1_ratio`, `rooms_offered_2_ratio`, `rooms_offered_3_ratio`, `rooms_offered_4_more_ratio`, `total_area_avg` (описание объвлений на районе в этом месяце тип 1, из train)\n",
    "\n",
    "**2:** `unique_active_buildings_count`, `unique_active_building_series_count`, `offer_count` (описание объявлений на районе в этом месяце тип 2, из train)\n",
    "\n",
    "**3:** `beauty_cnt`, `shopping_cnt`, `cafe_restaurant_eating_out_cnt`, `entertainment_cnt`, `sport_cnt`, `chain_cnt`, `groceries_and_everyday_items_cnt`, `art_cnt`, `healthcare_cnt`, `laundry_and_repair_services_cnt` (описание района, из housebase)\n",
    "\n",
    "**4:** `building_id`, `building_series_id`, `building_type`, `unified_address`, `flats_count`, `expect_demolition`, `ceiling_height`, `has_elevator`, `build_year` + `latitude`, `longitude` (описание дома, из housebase)"
   ]
  },
  {
   "cell_type": "markdown",
   "metadata": {},
   "source": [
    "### Группа -1\n",
    "\n",
    "Построим график распределения целевой переменной (`avg_price_sqm`). Здесь и далее будет использоваться функция hisplot() из библиотеки seaborn."
   ]
  },
  {
   "cell_type": "code",
   "execution_count": 14,
   "metadata": {
    "ExecuteTime": {
     "end_time": "2021-08-23T17:26:44.349168Z",
     "start_time": "2021-08-23T17:26:44.347262Z"
    }
   },
   "outputs": [
    {
     "data": {
      "image/png": "[encoded data removed]",
      "text/plain": [
       "<Figure size 1152x576 with 1 Axes>"
      ]
     },
     "metadata": {},
     "output_type": "display_data"
    }
   ],
   "source": [
    "### YOUR CODE HERE\n",
    "import seaborn as sns\n",
    "\n",
    "sns.histplot(train['avg_price_sqm'] + test['avg_price_sqm'], kde=False, )\n",
    "pass"
   ]
  },
  {
   "cell_type": "markdown",
   "metadata": {},
   "source": [
    "### Группа 0\n",
    "\n",
    "- Построим график распределения количества объявлений в зависимости от месяца для обучающей выборки.\n",
    "- Посчитаем сколько уникальных районов представлено в датасете, в обучающей и тестовой выборке. Есть ли в тестовой выборке новые районы."
   ]
  },
  {
   "cell_type": "code",
   "execution_count": 15,
   "metadata": {
    "ExecuteTime": {
     "end_time": "2021-08-23T17:26:45.088154Z",
     "start_time": "2021-08-23T17:26:45.086153Z"
    }
   },
   "outputs": [
    {
     "name": "stderr",
     "output_type": "stream",
     "text": [
      "/home/eugen/.local/lib/python3.10/site-packages/seaborn/distributions.py:2619: FutureWarning: `distplot` is a deprecated function and will be removed in a future version. Please adapt your code to use either `displot` (a figure-level function with similar flexibility) or `histplot` (an axes-level function for histograms).\n",
      "  warnings.warn(msg, FutureWarning)\n"
     ]
    },
    {
     "name": "stdout",
     "output_type": "stream",
     "text": [
      "new_quadkeys? -  True\n"
     ]
    },
    {
     "data": {
      "image/png": "[encoded data removed]",
      "text/plain": [
       "<Figure size 1152x576 with 1 Axes>"
      ]
     },
     "metadata": {},
     "output_type": "display_data"
    }
   ],
   "source": [
    "### YOUR CODE HERE\n",
    "import matplotlib.pyplot as plt\n",
    "\n",
    "#1\n",
    "train_month_values = np.unique(train['month'])\n",
    "test_month_values = np.unique(test['month'])\n",
    "month_intersection = np.intersect1d(train_month_values, test_month_values)\n",
    "\n",
    "#2\n",
    "test_and_train = np.hstack((train['month'], test['month']))       # concatente test and train columns with 'month' feat.\n",
    "only_month_list = [int(month[5:7]) for month in test_and_train]\n",
    "sns.distplot(only_month_list, color='g')\n",
    "plt.xlabel('Month number')\n",
    "plt.ylabel('Month counts')\n",
    "\n",
    "#3\n",
    "train_quadkey_values = np.unique(train['city_quadkey'])\n",
    "test_quadkey_values = np.unique(test['city_quadkey'])\n",
    "city_quadkey_union = np.union1d(train_quadkey_values, test_quadkey_values)\n",
    "new_quadkeys = True if len(city_quadkey_union) > len(train_quadkey_values) else False\n",
    "print('new_quadkeys? - ', new_quadkeys)"
   ]
  },
  {
   "cell_type": "markdown",
   "metadata": {},
   "source": [
    "Запишем в переменные (`train_nunique_month` и `train_nunique_quadkey`) количество уникальных значений в обучающей выборке для признаков `month` и `city_quadkey`."
   ]
  },
  {
   "cell_type": "code",
   "execution_count": 16,
   "metadata": {
    "ExecuteTime": {
     "end_time": "2021-08-23T17:26:45.768554Z",
     "start_time": "2021-08-23T17:26:45.764246Z"
    },
    "deletable": false,
    "nbgrader": {
     "cell_type": "code",
     "checksum": "8c05a8999241c271cb04f539a9ac43e1",
     "grade": false,
     "grade_id": "cell-ea2234714ac5e685",
     "locked": false,
     "schema_version": 3,
     "solution": true,
     "task": false
    }
   },
   "outputs": [
    {
     "data": {
      "text/plain": [
       "(24, 6326)"
      ]
     },
     "execution_count": 16,
     "metadata": {},
     "output_type": "execute_result"
    }
   ],
   "source": [
    "# your code here\n",
    "train_nunique_month = train['month'].nunique()\n",
    "train_nunique_quadkey = train['city_quadkey'].nunique()\n",
    "train_nunique_month, train_nunique_quadkey"
   ]
  },
  {
   "cell_type": "markdown",
   "metadata": {},
   "source": [
    "### Группа 1\n",
    "\n",
    "Для каждого признака построим график распределения. Проверим есть ли какие-то неинформативные признаки, которые можно сразу выбросить."
   ]
  },
  {
   "cell_type": "code",
   "execution_count": 17,
   "metadata": {
    "ExecuteTime": {
     "end_time": "2021-08-23T17:26:50.222710Z",
     "start_time": "2021-08-23T17:26:50.220615Z"
    }
   },
   "outputs": [
    {
     "data": {
      "image/png": "[encoded data removed]",
      "text/plain": [
       "<Figure size 1080x1800 with 8 Axes>"
      ]
     },
     "metadata": {},
     "output_type": "display_data"
    }
   ],
   "source": [
    "### FEATURES:\n",
    "### apartment_ratio, offers_in_sites_ratio,\n",
    "### studio_ratio, rooms_offered_1_ratio, rooms_offered_2_ratio,\n",
    "### rooms_offered_3_ratio, rooms_offered_4_more_ratio, total_area_avg\n",
    "### (описание объвлений на районе в этом месяце тип 1, из train)\n",
    "\n",
    "features_selected_group_1 = ['apartment_ratio', 'offers_in_sites_ratio',\n",
    "                             'studio_ratio', 'rooms_offered_1_ratio',\n",
    "                             'rooms_offered_2_ratio', 'rooms_offered_3_ratio',\n",
    "                             'rooms_offered_4_more_ratio', 'total_area_avg']\n",
    "\n",
    "fig, axes = plt.subplots(nrows=4, ncols=2, figsize=(15, 25))\n",
    "fig.suptitle('First group features distribution', fontsize=15)\n",
    "\n",
    "feature_index = 0\n",
    "for axes_row in axes:\n",
    "    for axis in axes_row:\n",
    "        feature_name = features_selected_group_1[feature_index]\n",
    "        sns.histplot(train[feature_name], color='g', ax=axis)#, name=feature_name)\n",
    "        feature_index += 1"
   ]
  },
  {
   "cell_type": "markdown",
   "metadata": {},
   "source": [
    "Запишем в переменную `unwanted_cols` список с признаком, который можно будет удалить."
   ]
  },
  {
   "cell_type": "code",
   "execution_count": 18,
   "metadata": {
    "ExecuteTime": {
     "end_time": "2021-08-23T17:26:50.824476Z",
     "start_time": "2021-08-23T17:26:50.822223Z"
    },
    "deletable": false,
    "nbgrader": {
     "cell_type": "code",
     "checksum": "4349ea72476790feb70d64b60dfa2980",
     "grade": false,
     "grade_id": "cell-d4a36177e8b620c3",
     "locked": false,
     "schema_version": 3,
     "solution": true,
     "task": false
    }
   },
   "outputs": [
    {
     "name": "stdout",
     "output_type": "stream",
     "text": [
      "1\n"
     ]
    }
   ],
   "source": [
    "### As we see the 'offers_in_sites_ratio' feature\n",
    "### has only one value in this dataset - \n",
    "### We can delete this feature\n",
    "\n",
    "print(len(np.unique(train['offers_in_sites_ratio'])))\n",
    "\n",
    "unwanted_cols = ['offers_in_sites_ratio']"
   ]
  },
  {
   "cell_type": "markdown",
   "metadata": {},
   "source": [
    "### Группа 2\n",
    "\n",
    "Для каждого признака построим график распределения."
   ]
  },
  {
   "cell_type": "code",
   "execution_count": 19,
   "metadata": {
    "ExecuteTime": {
     "end_time": "2021-08-23T17:26:53.409846Z",
     "start_time": "2021-08-23T17:26:53.407899Z"
    }
   },
   "outputs": [
    {
     "data": {
      "image/png": "[encoded data removed]",
      "text/plain": [
       "<Figure size 1080x1440 with 3 Axes>"
      ]
     },
     "metadata": {},
     "output_type": "display_data"
    }
   ],
   "source": [
    "\n",
    "features_selected_group_2 = ['unique_active_buildings_count', \n",
    "                             'unique_active_building_series_count', \n",
    "                             'offer_count']\n",
    "\n",
    "fig, axes = plt.subplots(nrows=3, ncols=1, figsize=(15, 20))\n",
    "fig.suptitle('Second group features distribution', fontsize=15)\n",
    "\n",
    "feature_index = 0\n",
    "for axis in axes:\n",
    "    feature_name = features_selected_group_2[feature_index]\n",
    "    sns.histplot(train[feature_name], color='lightcoral', ax=axis)\n",
    "    feature_index += 1"
   ]
  },
  {
   "cell_type": "markdown",
   "metadata": {},
   "source": [
    "### Группа 3\n",
    "\n",
    "Для каждого признака построим график распределения. \n",
    "\n",
    "Так как в этой группе признаки содержат информацию про количество тех или иных объектов на районе, физический смысл отсутствия информации - на районе нет таких объектов. В дальнейшем мы воспользуемся этой идеей для заполнения пропусков."
   ]
  },
  {
   "cell_type": "code",
   "execution_count": 20,
   "metadata": {
    "ExecuteTime": {
     "end_time": "2021-08-23T17:26:53.934220Z",
     "start_time": "2021-08-23T17:26:53.932195Z"
    }
   },
   "outputs": [
    {
     "data": {
      "image/png": "[encoded data removed]",
      "text/plain": [
       "<Figure size 1440x2016 with 10 Axes>"
      ]
     },
     "metadata": {},
     "output_type": "display_data"
    }
   ],
   "source": [
    "### beauty_cnt, shopping_cnt, cafe_restaurant_eating_out_cnt,\n",
    "### entertainment_cnt, sport_cnt, chain_cnt, groceries_and_everyday_items_cnt,\n",
    "### art_cnt, healthcare_cnt, laundry_and_repair_services_cnt (описание района, из housebase)\n",
    "\n",
    "features_selected_group_3 = ['beauty_cnt', 'shopping_cnt', 'cafe_restaurant_eating_out_cnt',\n",
    "                           'entertainment_cnt', 'sport_cnt', 'chain_cnt',\n",
    "                           'groceries_and_everyday_items_cnt', 'art_cnt', 'healthcare_cnt', \n",
    "                           'laundry_and_repair_services_cnt']\n",
    "\n",
    "fig, axes = plt.subplots(nrows=5, ncols=2, figsize=(20, 28))\n",
    "fig.suptitle('Third group features distribution', fontsize=15)\n",
    "\n",
    "feature_index = 0\n",
    "for axis_row in axes:\n",
    "    for axis in axis_row:\n",
    "        feature_name = features_selected_group_3[feature_index]\n",
    "        sns.histplot(housebase[feature_name], color='springgreen', ax=axis)\n",
    "        feature_index += 1"
   ]
  },
  {
   "cell_type": "markdown",
   "metadata": {},
   "source": [
    "### Группа 4\n",
    "\n",
    "- Построим график распределения для  `building_id`.\n",
    "- Построим графики распределения для `building_series_id` и `building_type`.\n",
    "- Построим графики распределения для `flats_count`, `ceiling_height` и `build_year`.\n",
    "- Построим графики распределения для `has_elevator` и `expect_demolition`.\n",
    "\n",
    "Выберем какие множества признаков, из указанных выше, нужно отнести к категориальным, какие к вещественным, а какое удалить. Признаки для удаления добавим в `unwanted_cols`.\n",
    "\n",
    "\n",
    "Признаки `latitude` и `longitude` пока счаитаем вещественными признаками.\n",
    "\n"
   ]
  },
  {
   "cell_type": "code",
   "execution_count": 21,
   "metadata": {
    "ExecuteTime": {
     "end_time": "2021-08-23T17:26:54.632125Z",
     "start_time": "2021-08-23T17:26:54.630282Z"
    }
   },
   "outputs": [
    {
     "name": "stderr",
     "output_type": "stream",
     "text": [
      "/home/eugen/.local/lib/python3.10/site-packages/seaborn/distributions.py:2619: FutureWarning: `distplot` is a deprecated function and will be removed in a future version. Please adapt your code to use either `displot` (a figure-level function with similar flexibility) or `histplot` (an axes-level function for histograms).\n",
      "  warnings.warn(msg, FutureWarning)\n"
     ]
    },
    {
     "data": {
      "image/png": "[encoded data removed]",
      "text/plain": [
       "<Figure size 1440x2520 with 9 Axes>"
      ]
     },
     "metadata": {},
     "output_type": "display_data"
    }
   ],
   "source": [
    "### building_id, building_series_id,\n",
    "### building_type, unified_address, \n",
    "### flats_count, expect_demolition,\n",
    "### ceiling_height, has_elevator, build_year + latitude, longitude\n",
    "from sklearn.preprocessing import LabelEncoder\n",
    "\n",
    "enc = LabelEncoder()\n",
    "column_for_graphics = housebase['building_type'].fillna('Unknown')\n",
    "column_for_graphics = enc.fit_transform(column_for_graphics)\n",
    "\n",
    "features_selected_group_4 = ['flats_count', 'expect_demolition',\n",
    "                             'ceiling_height', 'has_elevator', \n",
    "                             'build_year', 'latitude', 'longitude',\n",
    "                            'building_series_id']\n",
    "\n",
    "fig, axes = plt.subplots(nrows=3, ncols=3, figsize=(20, 35))\n",
    "fig.suptitle('4th group features distribution', fontsize=15)\n",
    "\n",
    "\n",
    "feature_index = 0\n",
    "for axis_row in axes:\n",
    "    for axis in axis_row:\n",
    "        if feature_index == 8:\n",
    "            sns.distplot(column_for_graphics, color='springgreen', ax=axis)\n",
    "            break\n",
    "        feature_name = features_selected_group_4[feature_index]\n",
    "        sns.histplot(housebase[feature_name], color='springgreen', ax=axis)\n",
    "        feature_index += 1\n",
    "\n",
    "unwanted_cols += ['building_id']"
   ]
  },
  {
   "cell_type": "markdown",
   "metadata": {},
   "source": [
    "### Деление на категориальные и вещественные\n",
    "\n",
    "Учитывая\n",
    "\n",
    "- Вывод функции dtypes\n",
    "- Ваши выводы из графиков по группе 4\n",
    "- Список `unwated_cols` (их не включайте)\n",
    "\n",
    "Выделим все категориальные признаки, запишем их в переменные `cat_features`. Также мы проверим список `unwanted_cols`. Все остальные признаки занесём в список `real_features`. **Признак `city_quadkey` и целевую переменную `avg_price_sqm` никуда не вносите.**"
   ]
  },
  {
   "cell_type": "code",
   "execution_count": 22,
   "metadata": {
    "ExecuteTime": {
     "end_time": "2021-08-23T17:26:55.741277Z",
     "start_time": "2021-08-23T17:26:55.738380Z"
    },
    "deletable": false,
    "nbgrader": {
     "cell_type": "code",
     "checksum": "14b559fe0a5ee83fd9f3e474685d2ca6",
     "grade": false,
     "grade_id": "cell-aaeced4f6c63fcc1",
     "locked": false,
     "schema_version": 3,
     "solution": true,
     "task": false
    }
   },
   "outputs": [
    {
     "data": {
      "text/plain": [
       "['season',\n",
       " 'month',\n",
       " 'building_series_id',\n",
       " 'building_type',\n",
       " 'unified_address',\n",
       " 'has_elevator',\n",
       " 'expect_demolition']"
      ]
     },
     "execution_count": 22,
     "metadata": {},
     "output_type": "execute_result"
    }
   ],
   "source": [
    "# your code here\n",
    "\n",
    "cat_features_from_train = ['season', 'month']\n",
    "cat_features_from_housebase = list(housebase.columns[2:5]) + ['has_elevator', 'expect_demolition'] \n",
    "\n",
    "real_features_from_train = ['apartment_ratio'] + list(train.columns[4:-2])\n",
    "real_features_from_housebase = list(housebase.columns[6:8]) + list(housebase.columns[9:11]) + list(housebase.columns[12:])\n",
    "\n",
    "cat_features = cat_features_from_train + cat_features_from_housebase\n",
    "real_features = real_features_from_train + real_features_from_housebase\n",
    "cat_features"
   ]
  },
  {
   "cell_type": "markdown",
   "metadata": {},
   "source": [
    "## Генерация признаков\n",
    "\n",
    "Сгенерируем несколько новых признаков, разделим их на несколько групп:\n",
    "\n",
    "- Отсутствие информации про район/дом\n",
    "- Находится ли дом в Москве\n",
    "- Расстояние до центра города\n",
    "- Находится ли дом внутри колец\n",
    "- Время года\n"
   ]
  },
  {
   "cell_type": "markdown",
   "metadata": {},
   "source": [
    "### Отсутствие информации про район/дом\n",
    "\n",
    "Вспомним признаки из группы 3 и группы 4, для **каждого** признака сделаем бинарный признак, который будет обозначать, что информация отсутствует, назовите их `col_name + '_isna'`. Создавать новые признаки стоит в `housebase`. Не будем создавать признаки для `unwanted_cols`.\n",
    "Заполним пропуски: для категориальных новым значением `UNKNOWN`, для вещественных нулём."
   ]
  },
  {
   "cell_type": "code",
   "execution_count": 23,
   "metadata": {},
   "outputs": [
    {
     "data": {
      "text/plain": [
       "(24, 7)"
      ]
     },
     "execution_count": 23,
     "metadata": {},
     "output_type": "execute_result"
    }
   ],
   "source": [
    "len(real_features), len(cat_features)"
   ]
  },
  {
   "cell_type": "code",
   "execution_count": 24,
   "metadata": {
    "ExecuteTime": {
     "end_time": "2021-08-23T17:26:58.643721Z",
     "start_time": "2021-08-23T17:26:58.612231Z"
    },
    "deletable": false,
    "nbgrader": {
     "cell_type": "code",
     "checksum": "bac178637112667778e081ca5ccb0c1f",
     "grade": false,
     "grade_id": "cell-7e6384ff94126e4c",
     "locked": false,
     "schema_version": 3,
     "solution": true,
     "task": false
    }
   },
   "outputs": [],
   "source": [
    "# your code here\n",
    "\n",
    "features_to_add = real_features + cat_features + ['building_id']\n",
    "features_to_add = np.intersect1d(list(housebase.columns), features_to_add)\n",
    "\n",
    "for feature in features_to_add:\n",
    "    housebase[feature + '_isna'] = housebase[feature].isna().astype(int)\n",
    "    if feature in cat_features:\n",
    "        #create new binary column \n",
    "        housebase[feature] = housebase[feature].fillna('UNKNOWN')\n",
    "        cat_features.append(feature + '_isna')\n",
    "    else:\n",
    "        #create new binary column \n",
    "        housebase[feature] = housebase[feature].fillna(0)\n",
    "        cat_features += [feature + '_isna']\n",
    "        \n"
   ]
  },
  {
   "cell_type": "markdown",
   "metadata": {},
   "source": [
    "### Находится ли дом в Москве\n",
    "\n",
    "Сделаем новый бинарный признак, который будет обозначать находится ли дом в Москве, назовите его `is_in_Moscow`. Для этого стоит анализировать уже имеющийся признак `unified_address`. Добавим новый признак в соответствующий список."
   ]
  },
  {
   "cell_type": "code",
   "execution_count": 25,
   "metadata": {
    "ExecuteTime": {
     "end_time": "2021-08-23T17:28:11.428202Z",
     "start_time": "2021-08-23T17:28:11.412250Z"
    },
    "deletable": false,
    "nbgrader": {
     "cell_type": "code",
     "checksum": "7a39f6e07fd20e8f5fae686094ab8c9d",
     "grade": false,
     "grade_id": "cell-8a0a087fdae81cbf",
     "locked": false,
     "schema_version": 3,
     "solution": true,
     "task": false
    }
   },
   "outputs": [
    {
     "name": "stdout",
     "output_type": "stream",
     "text": [
      "9984    Россия, Московская область, Луховицы, Новый пр...\n",
      "6885    Россия, Московская область, Егорьевск, 4-й мик...\n",
      "2350    Россия, Московская область, Сергиево-Посадский...\n",
      "3878              Россия, Москва, Измайловская площадь, 4\n",
      "6854           Россия, Москва, Шереметьевская улица, 37к2\n",
      "                              ...                        \n",
      "1836         Россия, Москва, Старая Басманная улица, 12с1\n",
      "8924    Россия, Московская область, Воскресенск, Рабоч...\n",
      "7378    Россия, Московская область, Балашиха, квартал ...\n",
      "7037    Россия, Московская область, Подольск, Парковая...\n",
      "2455    Россия, Московская область, Истра, микрорайон ...\n",
      "Name: unified_address, Length: 10000, dtype: object\n"
     ]
    }
   ],
   "source": [
    "# your code here\n",
    "print(housebase.unified_address)\n",
    "new_column = housebase['unified_address'].map(lambda x: True if 'Москва' in x else False).astype(int)\n",
    "housebase['is_in_Moscow'] = new_column\n",
    "cat_features.append('is_in_Moscow')"
   ]
  },
  {
   "cell_type": "markdown",
   "metadata": {},
   "source": [
    "### Расстояние до центра города\n",
    "\n",
    "Создадим новый вещественный признак, который будет равен расстоянию (по формуле haversine) от дома до Кремля, назовём его `center_dist`. Координаты Кремля: (55.7528, 37.6178)."
   ]
  },
  {
   "cell_type": "code",
   "execution_count": 26,
   "metadata": {},
   "outputs": [],
   "source": [
    "from math import radians, cos, sin, asin, sqrt\n",
    "\n",
    "def haversine(lon1, lat1, lon2, lat2):\n",
    "    \"\"\"\n",
    "    Calculate the great circle distance in kilometers between two points \n",
    "    on the earth (specified in decimal degrees)\n",
    "    \"\"\"\n",
    "    # convert decimal degrees to radians \n",
    "    lon1, lat1, lon2, lat2 = map(radians, [lon1, lat1, lon2, lat2])\n",
    "\n",
    "    # haversine formula \n",
    "    dlon = lon2 - lon1 \n",
    "    dlat = lat2 - lat1 \n",
    "    a = sin(dlat/2)**2 + cos(lat1) * cos(lat2) * sin(dlon/2)**2\n",
    "    c = 2 * asin(sqrt(a)) \n",
    "    r = 6371.0088 # Radius of earth in kilometers. Use 3956 for miles. Determines return value units.\n",
    "    return c * r\n"
   ]
  },
  {
   "cell_type": "code",
   "execution_count": 27,
   "metadata": {
    "ExecuteTime": {
     "end_time": "2021-08-23T17:28:13.449300Z",
     "start_time": "2021-08-23T17:28:12.995117Z"
    },
    "deletable": false,
    "nbgrader": {
     "cell_type": "code",
     "checksum": "04dcfcaa6ea7d982d3c1b649a4619c36",
     "grade": false,
     "grade_id": "cell-e0cbea832716f94e",
     "locked": false,
     "schema_version": 3,
     "solution": true,
     "task": false
    }
   },
   "outputs": [],
   "source": [
    "# your code here\n",
    "\n",
    "center_moscow = [55.7528, 37.6178]\n",
    "\n",
    "coordinates = housebase[['latitude', 'longitude']].to_numpy()\n",
    "new_column_center_dist = pd.Series([haversine(coord[1], coord[0],\n",
    "                                              center_moscow[1], center_moscow[0]) for coord in coordinates])\n",
    "housebase['center_dist'] = new_column_center_dist\n",
    "real_features.append('center_dist')"
   ]
  },
  {
   "cell_type": "markdown",
   "metadata": {},
   "source": [
    "### Находится ли дом внутри колец\n",
    "\n",
    "Создадим три новых бинарных признака - находится ли дом внутри Бульварного, Садового или Третьего Транспортного Кольца. Для этого стоит сравнить уже полученное расстояние до Кремля с 1.5, 3 и 6 километрами, соответственно. Назовите их `ring_1`, `ring_2` и `ring_3` соответственно."
   ]
  },
  {
   "cell_type": "code",
   "execution_count": 28,
   "metadata": {
    "ExecuteTime": {
     "end_time": "2021-08-23T17:28:15.287557Z",
     "start_time": "2021-08-23T17:28:15.283122Z"
    },
    "deletable": false,
    "nbgrader": {
     "cell_type": "code",
     "checksum": "798d992af498d30e86ca5380fc1eeebb",
     "grade": false,
     "grade_id": "cell-180b3b75ff4005ae",
     "locked": false,
     "schema_version": 3,
     "solution": true,
     "task": false
    }
   },
   "outputs": [],
   "source": [
    "# your code here\n",
    "housebase['ring_1'] = (housebase['center_dist'] < 1.5).astype(int)\n",
    "housebase['ring_2'] = (housebase['center_dist'] < 3.).astype(int)\n",
    "housebase['ring_3'] = (housebase['center_dist'] < 6.).astype(int)\n",
    "cat_features += ['ring_1', 'ring_2', 'ring_3']\n",
    "\n"
   ]
  },
  {
   "cell_type": "code",
   "execution_count": 29,
   "metadata": {},
   "outputs": [
    {
     "data": {
      "text/plain": [
       "31"
      ]
     },
     "execution_count": 29,
     "metadata": {},
     "output_type": "execute_result"
    }
   ],
   "source": [
    "len(cat_features)"
   ]
  },
  {
   "cell_type": "markdown",
   "metadata": {},
   "source": [
    "## Подготовка данных для обучения"
   ]
  },
  {
   "cell_type": "markdown",
   "metadata": {},
   "source": [
    "Теперь нам надо объединить обе таблички, чтобы добавить информацию про дома для каждого района. Перед тем как объединять таблички нам нужно будет создать для каждого района образ \"среднего\" дома по району.\n",
    "\n",
    "Для этого мы для каждого категориального признака возьмем моду, для каждого вещественного медиану."
   ]
  },
  {
   "cell_type": "code",
   "execution_count": 30,
   "metadata": {
    "ExecuteTime": {
     "end_time": "2021-08-23T17:28:19.063841Z",
     "start_time": "2021-08-23T17:28:19.060151Z"
    },
    "deletable": false,
    "nbgrader": {
     "cell_type": "code",
     "checksum": "ce6ad4ec06da132c8f20e10d5f83a8b3",
     "grade": false,
     "grade_id": "cell-b361ba5df6bfe485",
     "locked": false,
     "schema_version": 3,
     "solution": true,
     "task": false
    }
   },
   "outputs": [],
   "source": [
    "\n",
    "real_housebase = np.intersect1d(real_features, housebase.columns)\n",
    "cat_housebase = np.intersect1d(cat_features, housebase.columns)\n",
    "\n",
    "\n",
    "def combine_housebase(quadkeys_):\n",
    "    groups = housebase.loc[housebase['city_quadkey'].isin(quadkeys_)].groupby('city_quadkey',  as_index=False)\n",
    "    aggs = {}\n",
    "    for c in cat_housebase: aggs[c] = 'count'\n",
    "    for c in real_housebase: aggs[c] = 'median'\n",
    "    return groups.agg(aggs).reset_index(drop=False)\n"
   ]
  },
  {
   "cell_type": "code",
   "execution_count": 31,
   "metadata": {
    "ExecuteTime": {
     "end_time": "2021-08-23T17:28:24.070071Z",
     "start_time": "2021-08-23T17:28:21.770615Z"
    }
   },
   "outputs": [],
   "source": [
    "housebase = combine_housebase(housebase['city_quadkey'].unique())"
   ]
  },
  {
   "cell_type": "code",
   "execution_count": 32,
   "metadata": {},
   "outputs": [],
   "source": [
    "def fix_multiple_modes(x):\n",
    "    if isinstance(x, (list, tuple, np.ndarray)):\n",
    "        return x[0]\n",
    "    return x\n",
    "\n",
    "housebase['building_type'] = housebase['building_type'].apply(fix_multiple_modes)"
   ]
  },
  {
   "cell_type": "code",
   "execution_count": 33,
   "metadata": {
    "ExecuteTime": {
     "end_time": "2021-08-23T17:29:18.447034Z",
     "start_time": "2021-08-23T17:29:18.432681Z"
    }
   },
   "outputs": [],
   "source": [
    "train_data = train.join(housebase.set_index('city_quadkey'), on='city_quadkey', how='left')\n",
    "test_data = test.join(housebase.set_index('city_quadkey'), on='city_quadkey', how='left')\n",
    "\n",
    "train_data.dropna(inplace=True, axis=0)\n",
    "test_data.dropna(inplace=True, axis=0)"
   ]
  },
  {
   "cell_type": "code",
   "execution_count": 34,
   "metadata": {},
   "outputs": [],
   "source": [
    "train_data['building_type'] = train_data['building_type'].astype(str)\n",
    "test_data['building_type'] = test_data['building_type'].astype(str)"
   ]
  },
  {
   "cell_type": "markdown",
   "metadata": {},
   "source": [
    "Добавим еще один вещественный признак - возраст дома."
   ]
  },
  {
   "cell_type": "code",
   "execution_count": 35,
   "metadata": {
    "ExecuteTime": {
     "end_time": "2021-08-23T17:29:19.716688Z",
     "start_time": "2021-08-23T17:29:19.680690Z"
    }
   },
   "outputs": [],
   "source": [
    "train_data['build_year'] = train_data['month'].str.split('-').map(lambda x: x[0]).astype(int) - train_data['build_year']\n",
    "test_data['build_year'] = test_data['month'].str.split('-').map(lambda x: x[0]).astype(int) - test_data['build_year']"
   ]
  },
  {
   "cell_type": "markdown",
   "metadata": {},
   "source": [
    "Разделим данные на признаки и целевую переменную."
   ]
  },
  {
   "cell_type": "code",
   "execution_count": 36,
   "metadata": {
    "ExecuteTime": {
     "end_time": "2021-08-23T17:29:22.231845Z",
     "start_time": "2021-08-23T17:29:22.216269Z"
    }
   },
   "outputs": [],
   "source": [
    "x_train, y_train = train_data.drop(['avg_price_sqm'], axis=1), train_data[['avg_price_sqm']].values.ravel()\n",
    "x_test, y_test = test_data.drop(['avg_price_sqm'], axis=1), test_data[['avg_price_sqm']].values.ravel()"
   ]
  },
  {
   "cell_type": "markdown",
   "metadata": {},
   "source": [
    "В качестве бейзлайна возьмем значение нашей метрики (MAPE) для медианы обучающей выборки:"
   ]
  },
  {
   "cell_type": "code",
   "execution_count": 37,
   "metadata": {
    "ExecuteTime": {
     "end_time": "2021-08-23T17:29:22.863390Z",
     "start_time": "2021-08-23T17:29:22.860687Z"
    }
   },
   "outputs": [],
   "source": [
    "def mape(y_true, y_pred):\n",
    "    y_true, y_pred = np.array(y_true), np.array(y_pred)\n",
    "    return np.mean(np.abs((y_true - y_pred) / y_true)) * 100"
   ]
  },
  {
   "cell_type": "code",
   "execution_count": 38,
   "metadata": {
    "ExecuteTime": {
     "end_time": "2021-08-23T17:29:23.225893Z",
     "start_time": "2021-08-23T17:29:23.221747Z"
    }
   },
   "outputs": [
    {
     "data": {
      "text/plain": [
       "'MAPE baseline: TRAIN 50.38, TEST 51.73'"
      ]
     },
     "execution_count": 38,
     "metadata": {},
     "output_type": "execute_result"
    }
   ],
   "source": [
    "y_dummy = np.median(y_train)\n",
    "\n",
    "f'MAPE baseline: TRAIN {mape(y_train, y_dummy):.2f}, TEST {mape(y_test, y_dummy):.2f}'"
   ]
  },
  {
   "cell_type": "markdown",
   "metadata": {},
   "source": [
    "## Перебор гиперпараметров"
   ]
  },
  {
   "cell_type": "code",
   "execution_count": 39,
   "metadata": {
    "ExecuteTime": {
     "end_time": "2021-08-23T17:15:02.172110Z",
     "start_time": "2021-08-23T17:15:02.109702Z"
    }
   },
   "outputs": [],
   "source": [
    "from sklearn.compose import ColumnTransformer\n",
    "from sklearn.model_selection import GridSearchCV\n",
    "from sklearn.pipeline import Pipeline\n",
    "from sklearn.preprocessing import OneHotEncoder, StandardScaler, LabelEncoder"
   ]
  },
  {
   "cell_type": "code",
   "execution_count": 40,
   "id": "b1f403e8",
   "metadata": {},
   "outputs": [],
   "source": [
    "cat_housebase = x_train.select_dtypes(include='object').columns\n",
    "real_housebase = x_train.select_dtypes(exclude='object').columns"
   ]
  },
  {
   "cell_type": "code",
   "execution_count": 41,
   "id": "b904e6c0",
   "metadata": {},
   "outputs": [
    {
     "data": {
      "text/plain": [
       "Index(['month', 'season', 'building_type'], dtype='object')"
      ]
     },
     "execution_count": 41,
     "metadata": {},
     "output_type": "execute_result"
    }
   ],
   "source": [
    "cat_housebase"
   ]
  },
  {
   "cell_type": "code",
   "execution_count": 42,
   "id": "753153c9",
   "metadata": {},
   "outputs": [
    {
     "data": {
      "text/html": [
       "<div>\n",
       "<style scoped>\n",
       "    .dataframe tbody tr th:only-of-type {\n",
       "        vertical-align: middle;\n",
       "    }\n",
       "\n",
       "    .dataframe tbody tr th {\n",
       "        vertical-align: top;\n",
       "    }\n",
       "\n",
       "    .dataframe thead th {\n",
       "        text-align: right;\n",
       "    }\n",
       "</style>\n",
       "<table border=\"1\" class=\"dataframe\">\n",
       "  <thead>\n",
       "    <tr style=\"text-align: right;\">\n",
       "      <th></th>\n",
       "      <th>month</th>\n",
       "      <th>city_quadkey</th>\n",
       "      <th>apartment_ratio</th>\n",
       "      <th>offers_in_sites_ratio</th>\n",
       "      <th>studio_ratio</th>\n",
       "      <th>rooms_offered_1_ratio</th>\n",
       "      <th>rooms_offered_2_ratio</th>\n",
       "      <th>rooms_offered_3_ratio</th>\n",
       "      <th>rooms_offered_4_more_ratio</th>\n",
       "      <th>total_area_avg</th>\n",
       "      <th>unique_active_buildings_count</th>\n",
       "      <th>unique_active_building_series_count</th>\n",
       "      <th>offer_count</th>\n",
       "      <th>index</th>\n",
       "      <th>art_cnt_isna</th>\n",
       "      <th>beauty_cnt_isna</th>\n",
       "      <th>build_year_isna</th>\n",
       "      <th>building_id_isna</th>\n",
       "      <th>building_series_id</th>\n",
       "      <th>building_series_id_isna</th>\n",
       "      <th>building_type</th>\n",
       "      <th>building_type_isna</th>\n",
       "      <th>cafe_restaurant_eating_out_cnt_isna</th>\n",
       "      <th>ceiling_height_isna</th>\n",
       "      <th>chain_cnt_isna</th>\n",
       "      <th>entertainment_cnt_isna</th>\n",
       "      <th>expect_demolition</th>\n",
       "      <th>expect_demolition_isna</th>\n",
       "      <th>flats_count_isna</th>\n",
       "      <th>groceries_and_everyday_items_cnt_isna</th>\n",
       "      <th>has_elevator</th>\n",
       "      <th>has_elevator_isna</th>\n",
       "      <th>healthcare_cnt_isna</th>\n",
       "      <th>is_in_Moscow</th>\n",
       "      <th>laundry_and_repair_services_cnt_isna</th>\n",
       "      <th>longitude_isna</th>\n",
       "      <th>ring_1</th>\n",
       "      <th>ring_2</th>\n",
       "      <th>ring_3</th>\n",
       "      <th>shopping_cnt_isna</th>\n",
       "      <th>sport_cnt_isna</th>\n",
       "      <th>unified_address</th>\n",
       "      <th>unified_address_isna</th>\n",
       "      <th>art_cnt</th>\n",
       "      <th>beauty_cnt</th>\n",
       "      <th>build_year</th>\n",
       "      <th>cafe_restaurant_eating_out_cnt</th>\n",
       "      <th>ceiling_height</th>\n",
       "      <th>center_dist</th>\n",
       "      <th>chain_cnt</th>\n",
       "      <th>entertainment_cnt</th>\n",
       "      <th>flats_count</th>\n",
       "      <th>groceries_and_everyday_items_cnt</th>\n",
       "      <th>healthcare_cnt</th>\n",
       "      <th>laundry_and_repair_services_cnt</th>\n",
       "      <th>longitude</th>\n",
       "      <th>shopping_cnt</th>\n",
       "      <th>sport_cnt</th>\n",
       "      <th>season_fall</th>\n",
       "      <th>season_spring</th>\n",
       "      <th>season_summer</th>\n",
       "      <th>season_winter</th>\n",
       "    </tr>\n",
       "  </thead>\n",
       "  <tbody>\n",
       "    <tr>\n",
       "      <th>0</th>\n",
       "      <td>2017-09-01</td>\n",
       "      <td>120310101003320</td>\n",
       "      <td>0.0</td>\n",
       "      <td>0.0</td>\n",
       "      <td>0.000000</td>\n",
       "      <td>0.666667</td>\n",
       "      <td>0.000000</td>\n",
       "      <td>0.333333</td>\n",
       "      <td>0.000000</td>\n",
       "      <td>46.000000</td>\n",
       "      <td>1</td>\n",
       "      <td>1</td>\n",
       "      <td>3</td>\n",
       "      <td>1011.0</td>\n",
       "      <td>2.0</td>\n",
       "      <td>2.0</td>\n",
       "      <td>2.0</td>\n",
       "      <td>2.0</td>\n",
       "      <td>2.0</td>\n",
       "      <td>2.0</td>\n",
       "      <td>2.0</td>\n",
       "      <td>2.0</td>\n",
       "      <td>2.0</td>\n",
       "      <td>2.0</td>\n",
       "      <td>2.0</td>\n",
       "      <td>2.0</td>\n",
       "      <td>2.0</td>\n",
       "      <td>2.0</td>\n",
       "      <td>2.0</td>\n",
       "      <td>2.0</td>\n",
       "      <td>2.0</td>\n",
       "      <td>2.0</td>\n",
       "      <td>2.0</td>\n",
       "      <td>2.0</td>\n",
       "      <td>2.0</td>\n",
       "      <td>2.0</td>\n",
       "      <td>2.0</td>\n",
       "      <td>2.0</td>\n",
       "      <td>2.0</td>\n",
       "      <td>2.0</td>\n",
       "      <td>2.0</td>\n",
       "      <td>2.0</td>\n",
       "      <td>2.0</td>\n",
       "      <td>1.0</td>\n",
       "      <td>5.0</td>\n",
       "      <td>0.5</td>\n",
       "      <td>5.0</td>\n",
       "      <td>1.35</td>\n",
       "      <td>51.861060</td>\n",
       "      <td>22.0</td>\n",
       "      <td>1.0</td>\n",
       "      <td>735.0</td>\n",
       "      <td>7.0</td>\n",
       "      <td>1.0</td>\n",
       "      <td>2.0</td>\n",
       "      <td>37.398581</td>\n",
       "      <td>12.0</td>\n",
       "      <td>2.0</td>\n",
       "      <td>1</td>\n",
       "      <td>0</td>\n",
       "      <td>0</td>\n",
       "      <td>0</td>\n",
       "    </tr>\n",
       "    <tr>\n",
       "      <th>1</th>\n",
       "      <td>2018-02-01</td>\n",
       "      <td>120310102131112</td>\n",
       "      <td>0.0</td>\n",
       "      <td>0.0</td>\n",
       "      <td>0.000000</td>\n",
       "      <td>0.600000</td>\n",
       "      <td>0.200000</td>\n",
       "      <td>0.000000</td>\n",
       "      <td>0.200000</td>\n",
       "      <td>60.760000</td>\n",
       "      <td>4</td>\n",
       "      <td>2</td>\n",
       "      <td>5</td>\n",
       "      <td>2759.0</td>\n",
       "      <td>3.0</td>\n",
       "      <td>3.0</td>\n",
       "      <td>3.0</td>\n",
       "      <td>3.0</td>\n",
       "      <td>3.0</td>\n",
       "      <td>3.0</td>\n",
       "      <td>3.0</td>\n",
       "      <td>3.0</td>\n",
       "      <td>3.0</td>\n",
       "      <td>3.0</td>\n",
       "      <td>3.0</td>\n",
       "      <td>3.0</td>\n",
       "      <td>3.0</td>\n",
       "      <td>3.0</td>\n",
       "      <td>3.0</td>\n",
       "      <td>3.0</td>\n",
       "      <td>3.0</td>\n",
       "      <td>3.0</td>\n",
       "      <td>3.0</td>\n",
       "      <td>3.0</td>\n",
       "      <td>3.0</td>\n",
       "      <td>3.0</td>\n",
       "      <td>3.0</td>\n",
       "      <td>3.0</td>\n",
       "      <td>3.0</td>\n",
       "      <td>3.0</td>\n",
       "      <td>3.0</td>\n",
       "      <td>3.0</td>\n",
       "      <td>3.0</td>\n",
       "      <td>0.0</td>\n",
       "      <td>0.0</td>\n",
       "      <td>11.0</td>\n",
       "      <td>0.0</td>\n",
       "      <td>3.00</td>\n",
       "      <td>39.168148</td>\n",
       "      <td>2.0</td>\n",
       "      <td>2.0</td>\n",
       "      <td>33.0</td>\n",
       "      <td>2.0</td>\n",
       "      <td>0.0</td>\n",
       "      <td>1.0</td>\n",
       "      <td>37.245106</td>\n",
       "      <td>1.0</td>\n",
       "      <td>2.0</td>\n",
       "      <td>0</td>\n",
       "      <td>0</td>\n",
       "      <td>0</td>\n",
       "      <td>1</td>\n",
       "    </tr>\n",
       "    <tr>\n",
       "      <th>2</th>\n",
       "      <td>2018-10-01</td>\n",
       "      <td>120310121201212</td>\n",
       "      <td>0.0</td>\n",
       "      <td>0.0</td>\n",
       "      <td>0.047619</td>\n",
       "      <td>0.349206</td>\n",
       "      <td>0.428571</td>\n",
       "      <td>0.206349</td>\n",
       "      <td>0.015873</td>\n",
       "      <td>51.480952</td>\n",
       "      <td>13</td>\n",
       "      <td>2</td>\n",
       "      <td>63</td>\n",
       "      <td>3769.0</td>\n",
       "      <td>2.0</td>\n",
       "      <td>2.0</td>\n",
       "      <td>2.0</td>\n",
       "      <td>2.0</td>\n",
       "      <td>2.0</td>\n",
       "      <td>2.0</td>\n",
       "      <td>2.0</td>\n",
       "      <td>2.0</td>\n",
       "      <td>2.0</td>\n",
       "      <td>2.0</td>\n",
       "      <td>2.0</td>\n",
       "      <td>2.0</td>\n",
       "      <td>2.0</td>\n",
       "      <td>2.0</td>\n",
       "      <td>2.0</td>\n",
       "      <td>2.0</td>\n",
       "      <td>2.0</td>\n",
       "      <td>2.0</td>\n",
       "      <td>2.0</td>\n",
       "      <td>2.0</td>\n",
       "      <td>2.0</td>\n",
       "      <td>2.0</td>\n",
       "      <td>2.0</td>\n",
       "      <td>2.0</td>\n",
       "      <td>2.0</td>\n",
       "      <td>2.0</td>\n",
       "      <td>2.0</td>\n",
       "      <td>2.0</td>\n",
       "      <td>2.0</td>\n",
       "      <td>5.0</td>\n",
       "      <td>1.0</td>\n",
       "      <td>70.0</td>\n",
       "      <td>0.0</td>\n",
       "      <td>0.00</td>\n",
       "      <td>48.694889</td>\n",
       "      <td>5.0</td>\n",
       "      <td>1.0</td>\n",
       "      <td>26.0</td>\n",
       "      <td>11.0</td>\n",
       "      <td>12.0</td>\n",
       "      <td>1.0</td>\n",
       "      <td>37.380466</td>\n",
       "      <td>4.0</td>\n",
       "      <td>0.0</td>\n",
       "      <td>1</td>\n",
       "      <td>0</td>\n",
       "      <td>0</td>\n",
       "      <td>0</td>\n",
       "    </tr>\n",
       "    <tr>\n",
       "      <th>3</th>\n",
       "      <td>2017-09-01</td>\n",
       "      <td>120310101102202</td>\n",
       "      <td>0.0</td>\n",
       "      <td>0.0</td>\n",
       "      <td>0.000000</td>\n",
       "      <td>0.486486</td>\n",
       "      <td>0.243243</td>\n",
       "      <td>0.270270</td>\n",
       "      <td>0.000000</td>\n",
       "      <td>49.237838</td>\n",
       "      <td>15</td>\n",
       "      <td>8</td>\n",
       "      <td>37</td>\n",
       "      <td>1475.0</td>\n",
       "      <td>2.0</td>\n",
       "      <td>2.0</td>\n",
       "      <td>2.0</td>\n",
       "      <td>2.0</td>\n",
       "      <td>2.0</td>\n",
       "      <td>2.0</td>\n",
       "      <td>2.0</td>\n",
       "      <td>2.0</td>\n",
       "      <td>2.0</td>\n",
       "      <td>2.0</td>\n",
       "      <td>2.0</td>\n",
       "      <td>2.0</td>\n",
       "      <td>2.0</td>\n",
       "      <td>2.0</td>\n",
       "      <td>2.0</td>\n",
       "      <td>2.0</td>\n",
       "      <td>2.0</td>\n",
       "      <td>2.0</td>\n",
       "      <td>2.0</td>\n",
       "      <td>2.0</td>\n",
       "      <td>2.0</td>\n",
       "      <td>2.0</td>\n",
       "      <td>2.0</td>\n",
       "      <td>2.0</td>\n",
       "      <td>2.0</td>\n",
       "      <td>2.0</td>\n",
       "      <td>2.0</td>\n",
       "      <td>2.0</td>\n",
       "      <td>2.0</td>\n",
       "      <td>0.0</td>\n",
       "      <td>5.0</td>\n",
       "      <td>38.0</td>\n",
       "      <td>2.0</td>\n",
       "      <td>1.35</td>\n",
       "      <td>25.995043</td>\n",
       "      <td>16.0</td>\n",
       "      <td>9.0</td>\n",
       "      <td>171.5</td>\n",
       "      <td>7.0</td>\n",
       "      <td>1.0</td>\n",
       "      <td>6.0</td>\n",
       "      <td>37.625065</td>\n",
       "      <td>2.0</td>\n",
       "      <td>7.0</td>\n",
       "      <td>1</td>\n",
       "      <td>0</td>\n",
       "      <td>0</td>\n",
       "      <td>0</td>\n",
       "    </tr>\n",
       "    <tr>\n",
       "      <th>4</th>\n",
       "      <td>2017-01-01</td>\n",
       "      <td>120310101102301</td>\n",
       "      <td>0.0</td>\n",
       "      <td>0.0</td>\n",
       "      <td>0.000000</td>\n",
       "      <td>0.513514</td>\n",
       "      <td>0.324324</td>\n",
       "      <td>0.135135</td>\n",
       "      <td>0.027027</td>\n",
       "      <td>48.313513</td>\n",
       "      <td>15</td>\n",
       "      <td>8</td>\n",
       "      <td>37</td>\n",
       "      <td>1488.0</td>\n",
       "      <td>2.0</td>\n",
       "      <td>2.0</td>\n",
       "      <td>2.0</td>\n",
       "      <td>2.0</td>\n",
       "      <td>2.0</td>\n",
       "      <td>2.0</td>\n",
       "      <td>2.0</td>\n",
       "      <td>2.0</td>\n",
       "      <td>2.0</td>\n",
       "      <td>2.0</td>\n",
       "      <td>2.0</td>\n",
       "      <td>2.0</td>\n",
       "      <td>2.0</td>\n",
       "      <td>2.0</td>\n",
       "      <td>2.0</td>\n",
       "      <td>2.0</td>\n",
       "      <td>2.0</td>\n",
       "      <td>2.0</td>\n",
       "      <td>2.0</td>\n",
       "      <td>2.0</td>\n",
       "      <td>2.0</td>\n",
       "      <td>2.0</td>\n",
       "      <td>2.0</td>\n",
       "      <td>2.0</td>\n",
       "      <td>2.0</td>\n",
       "      <td>2.0</td>\n",
       "      <td>2.0</td>\n",
       "      <td>2.0</td>\n",
       "      <td>2.0</td>\n",
       "      <td>2.0</td>\n",
       "      <td>5.0</td>\n",
       "      <td>39.5</td>\n",
       "      <td>1.0</td>\n",
       "      <td>1.50</td>\n",
       "      <td>16.558161</td>\n",
       "      <td>18.0</td>\n",
       "      <td>4.0</td>\n",
       "      <td>80.0</td>\n",
       "      <td>5.0</td>\n",
       "      <td>5.0</td>\n",
       "      <td>15.0</td>\n",
       "      <td>37.676758</td>\n",
       "      <td>2.0</td>\n",
       "      <td>5.0</td>\n",
       "      <td>0</td>\n",
       "      <td>0</td>\n",
       "      <td>0</td>\n",
       "      <td>1</td>\n",
       "    </tr>\n",
       "  </tbody>\n",
       "</table>\n",
       "</div>"
      ],
      "text/plain": [
       "        month     city_quadkey  apartment_ratio  offers_in_sites_ratio  \\\n",
       "0  2017-09-01  120310101003320              0.0                    0.0   \n",
       "1  2018-02-01  120310102131112              0.0                    0.0   \n",
       "2  2018-10-01  120310121201212              0.0                    0.0   \n",
       "3  2017-09-01  120310101102202              0.0                    0.0   \n",
       "4  2017-01-01  120310101102301              0.0                    0.0   \n",
       "\n",
       "   studio_ratio  rooms_offered_1_ratio  rooms_offered_2_ratio  \\\n",
       "0      0.000000               0.666667               0.000000   \n",
       "1      0.000000               0.600000               0.200000   \n",
       "2      0.047619               0.349206               0.428571   \n",
       "3      0.000000               0.486486               0.243243   \n",
       "4      0.000000               0.513514               0.324324   \n",
       "\n",
       "   rooms_offered_3_ratio  rooms_offered_4_more_ratio  total_area_avg  \\\n",
       "0               0.333333                    0.000000       46.000000   \n",
       "1               0.000000                    0.200000       60.760000   \n",
       "2               0.206349                    0.015873       51.480952   \n",
       "3               0.270270                    0.000000       49.237838   \n",
       "4               0.135135                    0.027027       48.313513   \n",
       "\n",
       "   unique_active_buildings_count  unique_active_building_series_count  \\\n",
       "0                              1                                    1   \n",
       "1                              4                                    2   \n",
       "2                             13                                    2   \n",
       "3                             15                                    8   \n",
       "4                             15                                    8   \n",
       "\n",
       "   offer_count   index  art_cnt_isna  beauty_cnt_isna  build_year_isna  \\\n",
       "0            3  1011.0           2.0              2.0              2.0   \n",
       "1            5  2759.0           3.0              3.0              3.0   \n",
       "2           63  3769.0           2.0              2.0              2.0   \n",
       "3           37  1475.0           2.0              2.0              2.0   \n",
       "4           37  1488.0           2.0              2.0              2.0   \n",
       "\n",
       "   building_id_isna  building_series_id  building_series_id_isna  \\\n",
       "0               2.0                 2.0                      2.0   \n",
       "1               3.0                 3.0                      3.0   \n",
       "2               2.0                 2.0                      2.0   \n",
       "3               2.0                 2.0                      2.0   \n",
       "4               2.0                 2.0                      2.0   \n",
       "\n",
       "  building_type  building_type_isna  cafe_restaurant_eating_out_cnt_isna  \\\n",
       "0           2.0                 2.0                                  2.0   \n",
       "1           3.0                 3.0                                  3.0   \n",
       "2           2.0                 2.0                                  2.0   \n",
       "3           2.0                 2.0                                  2.0   \n",
       "4           2.0                 2.0                                  2.0   \n",
       "\n",
       "   ceiling_height_isna  chain_cnt_isna  entertainment_cnt_isna  \\\n",
       "0                  2.0             2.0                     2.0   \n",
       "1                  3.0             3.0                     3.0   \n",
       "2                  2.0             2.0                     2.0   \n",
       "3                  2.0             2.0                     2.0   \n",
       "4                  2.0             2.0                     2.0   \n",
       "\n",
       "   expect_demolition  expect_demolition_isna  flats_count_isna  \\\n",
       "0                2.0                     2.0               2.0   \n",
       "1                3.0                     3.0               3.0   \n",
       "2                2.0                     2.0               2.0   \n",
       "3                2.0                     2.0               2.0   \n",
       "4                2.0                     2.0               2.0   \n",
       "\n",
       "   groceries_and_everyday_items_cnt_isna  has_elevator  has_elevator_isna  \\\n",
       "0                                    2.0           2.0                2.0   \n",
       "1                                    3.0           3.0                3.0   \n",
       "2                                    2.0           2.0                2.0   \n",
       "3                                    2.0           2.0                2.0   \n",
       "4                                    2.0           2.0                2.0   \n",
       "\n",
       "   healthcare_cnt_isna  is_in_Moscow  laundry_and_repair_services_cnt_isna  \\\n",
       "0                  2.0           2.0                                   2.0   \n",
       "1                  3.0           3.0                                   3.0   \n",
       "2                  2.0           2.0                                   2.0   \n",
       "3                  2.0           2.0                                   2.0   \n",
       "4                  2.0           2.0                                   2.0   \n",
       "\n",
       "   longitude_isna  ring_1  ring_2  ring_3  shopping_cnt_isna  sport_cnt_isna  \\\n",
       "0             2.0     2.0     2.0     2.0                2.0             2.0   \n",
       "1             3.0     3.0     3.0     3.0                3.0             3.0   \n",
       "2             2.0     2.0     2.0     2.0                2.0             2.0   \n",
       "3             2.0     2.0     2.0     2.0                2.0             2.0   \n",
       "4             2.0     2.0     2.0     2.0                2.0             2.0   \n",
       "\n",
       "   unified_address  unified_address_isna  art_cnt  beauty_cnt  build_year  \\\n",
       "0              2.0                   2.0      1.0         5.0         0.5   \n",
       "1              3.0                   3.0      0.0         0.0        11.0   \n",
       "2              2.0                   2.0      5.0         1.0        70.0   \n",
       "3              2.0                   2.0      0.0         5.0        38.0   \n",
       "4              2.0                   2.0      2.0         5.0        39.5   \n",
       "\n",
       "   cafe_restaurant_eating_out_cnt  ceiling_height  center_dist  chain_cnt  \\\n",
       "0                             5.0            1.35    51.861060       22.0   \n",
       "1                             0.0            3.00    39.168148        2.0   \n",
       "2                             0.0            0.00    48.694889        5.0   \n",
       "3                             2.0            1.35    25.995043       16.0   \n",
       "4                             1.0            1.50    16.558161       18.0   \n",
       "\n",
       "   entertainment_cnt  flats_count  groceries_and_everyday_items_cnt  \\\n",
       "0                1.0        735.0                               7.0   \n",
       "1                2.0         33.0                               2.0   \n",
       "2                1.0         26.0                              11.0   \n",
       "3                9.0        171.5                               7.0   \n",
       "4                4.0         80.0                               5.0   \n",
       "\n",
       "   healthcare_cnt  laundry_and_repair_services_cnt  longitude  shopping_cnt  \\\n",
       "0             1.0                              2.0  37.398581          12.0   \n",
       "1             0.0                              1.0  37.245106           1.0   \n",
       "2            12.0                              1.0  37.380466           4.0   \n",
       "3             1.0                              6.0  37.625065           2.0   \n",
       "4             5.0                             15.0  37.676758           2.0   \n",
       "\n",
       "   sport_cnt  season_fall  season_spring  season_summer  season_winter  \n",
       "0        2.0            1              0              0              0  \n",
       "1        2.0            0              0              0              1  \n",
       "2        0.0            1              0              0              0  \n",
       "3        7.0            1              0              0              0  \n",
       "4        5.0            0              0              0              1  "
      ]
     },
     "execution_count": 42,
     "metadata": {},
     "output_type": "execute_result"
    }
   ],
   "source": [
    "x_train = pd.get_dummies(x_train, columns=['season'])\n",
    "x_test = pd.get_dummies(x_test, columns=['season'])\n",
    "x_train.head()"
   ]
  },
  {
   "cell_type": "code",
   "execution_count": 43,
   "id": "8e3c5fd4",
   "metadata": {},
   "outputs": [
    {
     "data": {
      "text/html": [
       "<div>\n",
       "<style scoped>\n",
       "    .dataframe tbody tr th:only-of-type {\n",
       "        vertical-align: middle;\n",
       "    }\n",
       "\n",
       "    .dataframe tbody tr th {\n",
       "        vertical-align: top;\n",
       "    }\n",
       "\n",
       "    .dataframe thead th {\n",
       "        text-align: right;\n",
       "    }\n",
       "</style>\n",
       "<table border=\"1\" class=\"dataframe\">\n",
       "  <thead>\n",
       "    <tr style=\"text-align: right;\">\n",
       "      <th></th>\n",
       "      <th>city_quadkey</th>\n",
       "      <th>apartment_ratio</th>\n",
       "      <th>offers_in_sites_ratio</th>\n",
       "      <th>studio_ratio</th>\n",
       "      <th>rooms_offered_1_ratio</th>\n",
       "      <th>rooms_offered_2_ratio</th>\n",
       "      <th>rooms_offered_3_ratio</th>\n",
       "      <th>rooms_offered_4_more_ratio</th>\n",
       "      <th>total_area_avg</th>\n",
       "      <th>unique_active_buildings_count</th>\n",
       "      <th>unique_active_building_series_count</th>\n",
       "      <th>offer_count</th>\n",
       "      <th>index</th>\n",
       "      <th>art_cnt_isna</th>\n",
       "      <th>beauty_cnt_isna</th>\n",
       "      <th>build_year_isna</th>\n",
       "      <th>building_id_isna</th>\n",
       "      <th>building_series_id</th>\n",
       "      <th>building_series_id_isna</th>\n",
       "      <th>building_type</th>\n",
       "      <th>building_type_isna</th>\n",
       "      <th>cafe_restaurant_eating_out_cnt_isna</th>\n",
       "      <th>ceiling_height_isna</th>\n",
       "      <th>chain_cnt_isna</th>\n",
       "      <th>entertainment_cnt_isna</th>\n",
       "      <th>expect_demolition</th>\n",
       "      <th>expect_demolition_isna</th>\n",
       "      <th>flats_count_isna</th>\n",
       "      <th>groceries_and_everyday_items_cnt_isna</th>\n",
       "      <th>has_elevator</th>\n",
       "      <th>has_elevator_isna</th>\n",
       "      <th>healthcare_cnt_isna</th>\n",
       "      <th>is_in_Moscow</th>\n",
       "      <th>laundry_and_repair_services_cnt_isna</th>\n",
       "      <th>longitude_isna</th>\n",
       "      <th>ring_1</th>\n",
       "      <th>ring_2</th>\n",
       "      <th>ring_3</th>\n",
       "      <th>shopping_cnt_isna</th>\n",
       "      <th>sport_cnt_isna</th>\n",
       "      <th>unified_address</th>\n",
       "      <th>unified_address_isna</th>\n",
       "      <th>art_cnt</th>\n",
       "      <th>beauty_cnt</th>\n",
       "      <th>build_year</th>\n",
       "      <th>cafe_restaurant_eating_out_cnt</th>\n",
       "      <th>ceiling_height</th>\n",
       "      <th>center_dist</th>\n",
       "      <th>chain_cnt</th>\n",
       "      <th>entertainment_cnt</th>\n",
       "      <th>flats_count</th>\n",
       "      <th>groceries_and_everyday_items_cnt</th>\n",
       "      <th>healthcare_cnt</th>\n",
       "      <th>laundry_and_repair_services_cnt</th>\n",
       "      <th>longitude</th>\n",
       "      <th>shopping_cnt</th>\n",
       "      <th>sport_cnt</th>\n",
       "      <th>season_fall</th>\n",
       "      <th>season_spring</th>\n",
       "      <th>season_summer</th>\n",
       "      <th>season_winter</th>\n",
       "    </tr>\n",
       "  </thead>\n",
       "  <tbody>\n",
       "    <tr>\n",
       "      <th>0</th>\n",
       "      <td>120310101003320</td>\n",
       "      <td>0.0</td>\n",
       "      <td>0.0</td>\n",
       "      <td>0.000000</td>\n",
       "      <td>0.666667</td>\n",
       "      <td>0.000000</td>\n",
       "      <td>0.333333</td>\n",
       "      <td>0.000000</td>\n",
       "      <td>46.000000</td>\n",
       "      <td>1</td>\n",
       "      <td>1</td>\n",
       "      <td>3</td>\n",
       "      <td>1011.0</td>\n",
       "      <td>2.0</td>\n",
       "      <td>2.0</td>\n",
       "      <td>2.0</td>\n",
       "      <td>2.0</td>\n",
       "      <td>2.0</td>\n",
       "      <td>2.0</td>\n",
       "      <td>2.0</td>\n",
       "      <td>2.0</td>\n",
       "      <td>2.0</td>\n",
       "      <td>2.0</td>\n",
       "      <td>2.0</td>\n",
       "      <td>2.0</td>\n",
       "      <td>2.0</td>\n",
       "      <td>2.0</td>\n",
       "      <td>2.0</td>\n",
       "      <td>2.0</td>\n",
       "      <td>2.0</td>\n",
       "      <td>2.0</td>\n",
       "      <td>2.0</td>\n",
       "      <td>2.0</td>\n",
       "      <td>2.0</td>\n",
       "      <td>2.0</td>\n",
       "      <td>2.0</td>\n",
       "      <td>2.0</td>\n",
       "      <td>2.0</td>\n",
       "      <td>2.0</td>\n",
       "      <td>2.0</td>\n",
       "      <td>2.0</td>\n",
       "      <td>2.0</td>\n",
       "      <td>1.0</td>\n",
       "      <td>5.0</td>\n",
       "      <td>0.5</td>\n",
       "      <td>5.0</td>\n",
       "      <td>1.35</td>\n",
       "      <td>51.861060</td>\n",
       "      <td>22.0</td>\n",
       "      <td>1.0</td>\n",
       "      <td>735.0</td>\n",
       "      <td>7.0</td>\n",
       "      <td>1.0</td>\n",
       "      <td>2.0</td>\n",
       "      <td>37.398581</td>\n",
       "      <td>12.0</td>\n",
       "      <td>2.0</td>\n",
       "      <td>1</td>\n",
       "      <td>0</td>\n",
       "      <td>0</td>\n",
       "      <td>0</td>\n",
       "    </tr>\n",
       "    <tr>\n",
       "      <th>1</th>\n",
       "      <td>120310102131112</td>\n",
       "      <td>0.0</td>\n",
       "      <td>0.0</td>\n",
       "      <td>0.000000</td>\n",
       "      <td>0.600000</td>\n",
       "      <td>0.200000</td>\n",
       "      <td>0.000000</td>\n",
       "      <td>0.200000</td>\n",
       "      <td>60.760000</td>\n",
       "      <td>4</td>\n",
       "      <td>2</td>\n",
       "      <td>5</td>\n",
       "      <td>2759.0</td>\n",
       "      <td>3.0</td>\n",
       "      <td>3.0</td>\n",
       "      <td>3.0</td>\n",
       "      <td>3.0</td>\n",
       "      <td>3.0</td>\n",
       "      <td>3.0</td>\n",
       "      <td>3.0</td>\n",
       "      <td>3.0</td>\n",
       "      <td>3.0</td>\n",
       "      <td>3.0</td>\n",
       "      <td>3.0</td>\n",
       "      <td>3.0</td>\n",
       "      <td>3.0</td>\n",
       "      <td>3.0</td>\n",
       "      <td>3.0</td>\n",
       "      <td>3.0</td>\n",
       "      <td>3.0</td>\n",
       "      <td>3.0</td>\n",
       "      <td>3.0</td>\n",
       "      <td>3.0</td>\n",
       "      <td>3.0</td>\n",
       "      <td>3.0</td>\n",
       "      <td>3.0</td>\n",
       "      <td>3.0</td>\n",
       "      <td>3.0</td>\n",
       "      <td>3.0</td>\n",
       "      <td>3.0</td>\n",
       "      <td>3.0</td>\n",
       "      <td>3.0</td>\n",
       "      <td>0.0</td>\n",
       "      <td>0.0</td>\n",
       "      <td>11.0</td>\n",
       "      <td>0.0</td>\n",
       "      <td>3.00</td>\n",
       "      <td>39.168148</td>\n",
       "      <td>2.0</td>\n",
       "      <td>2.0</td>\n",
       "      <td>33.0</td>\n",
       "      <td>2.0</td>\n",
       "      <td>0.0</td>\n",
       "      <td>1.0</td>\n",
       "      <td>37.245106</td>\n",
       "      <td>1.0</td>\n",
       "      <td>2.0</td>\n",
       "      <td>0</td>\n",
       "      <td>0</td>\n",
       "      <td>0</td>\n",
       "      <td>1</td>\n",
       "    </tr>\n",
       "    <tr>\n",
       "      <th>2</th>\n",
       "      <td>120310121201212</td>\n",
       "      <td>0.0</td>\n",
       "      <td>0.0</td>\n",
       "      <td>0.047619</td>\n",
       "      <td>0.349206</td>\n",
       "      <td>0.428571</td>\n",
       "      <td>0.206349</td>\n",
       "      <td>0.015873</td>\n",
       "      <td>51.480952</td>\n",
       "      <td>13</td>\n",
       "      <td>2</td>\n",
       "      <td>63</td>\n",
       "      <td>3769.0</td>\n",
       "      <td>2.0</td>\n",
       "      <td>2.0</td>\n",
       "      <td>2.0</td>\n",
       "      <td>2.0</td>\n",
       "      <td>2.0</td>\n",
       "      <td>2.0</td>\n",
       "      <td>2.0</td>\n",
       "      <td>2.0</td>\n",
       "      <td>2.0</td>\n",
       "      <td>2.0</td>\n",
       "      <td>2.0</td>\n",
       "      <td>2.0</td>\n",
       "      <td>2.0</td>\n",
       "      <td>2.0</td>\n",
       "      <td>2.0</td>\n",
       "      <td>2.0</td>\n",
       "      <td>2.0</td>\n",
       "      <td>2.0</td>\n",
       "      <td>2.0</td>\n",
       "      <td>2.0</td>\n",
       "      <td>2.0</td>\n",
       "      <td>2.0</td>\n",
       "      <td>2.0</td>\n",
       "      <td>2.0</td>\n",
       "      <td>2.0</td>\n",
       "      <td>2.0</td>\n",
       "      <td>2.0</td>\n",
       "      <td>2.0</td>\n",
       "      <td>2.0</td>\n",
       "      <td>5.0</td>\n",
       "      <td>1.0</td>\n",
       "      <td>70.0</td>\n",
       "      <td>0.0</td>\n",
       "      <td>0.00</td>\n",
       "      <td>48.694889</td>\n",
       "      <td>5.0</td>\n",
       "      <td>1.0</td>\n",
       "      <td>26.0</td>\n",
       "      <td>11.0</td>\n",
       "      <td>12.0</td>\n",
       "      <td>1.0</td>\n",
       "      <td>37.380466</td>\n",
       "      <td>4.0</td>\n",
       "      <td>0.0</td>\n",
       "      <td>1</td>\n",
       "      <td>0</td>\n",
       "      <td>0</td>\n",
       "      <td>0</td>\n",
       "    </tr>\n",
       "    <tr>\n",
       "      <th>3</th>\n",
       "      <td>120310101102202</td>\n",
       "      <td>0.0</td>\n",
       "      <td>0.0</td>\n",
       "      <td>0.000000</td>\n",
       "      <td>0.486486</td>\n",
       "      <td>0.243243</td>\n",
       "      <td>0.270270</td>\n",
       "      <td>0.000000</td>\n",
       "      <td>49.237838</td>\n",
       "      <td>15</td>\n",
       "      <td>8</td>\n",
       "      <td>37</td>\n",
       "      <td>1475.0</td>\n",
       "      <td>2.0</td>\n",
       "      <td>2.0</td>\n",
       "      <td>2.0</td>\n",
       "      <td>2.0</td>\n",
       "      <td>2.0</td>\n",
       "      <td>2.0</td>\n",
       "      <td>2.0</td>\n",
       "      <td>2.0</td>\n",
       "      <td>2.0</td>\n",
       "      <td>2.0</td>\n",
       "      <td>2.0</td>\n",
       "      <td>2.0</td>\n",
       "      <td>2.0</td>\n",
       "      <td>2.0</td>\n",
       "      <td>2.0</td>\n",
       "      <td>2.0</td>\n",
       "      <td>2.0</td>\n",
       "      <td>2.0</td>\n",
       "      <td>2.0</td>\n",
       "      <td>2.0</td>\n",
       "      <td>2.0</td>\n",
       "      <td>2.0</td>\n",
       "      <td>2.0</td>\n",
       "      <td>2.0</td>\n",
       "      <td>2.0</td>\n",
       "      <td>2.0</td>\n",
       "      <td>2.0</td>\n",
       "      <td>2.0</td>\n",
       "      <td>2.0</td>\n",
       "      <td>0.0</td>\n",
       "      <td>5.0</td>\n",
       "      <td>38.0</td>\n",
       "      <td>2.0</td>\n",
       "      <td>1.35</td>\n",
       "      <td>25.995043</td>\n",
       "      <td>16.0</td>\n",
       "      <td>9.0</td>\n",
       "      <td>171.5</td>\n",
       "      <td>7.0</td>\n",
       "      <td>1.0</td>\n",
       "      <td>6.0</td>\n",
       "      <td>37.625065</td>\n",
       "      <td>2.0</td>\n",
       "      <td>7.0</td>\n",
       "      <td>1</td>\n",
       "      <td>0</td>\n",
       "      <td>0</td>\n",
       "      <td>0</td>\n",
       "    </tr>\n",
       "    <tr>\n",
       "      <th>4</th>\n",
       "      <td>120310101102301</td>\n",
       "      <td>0.0</td>\n",
       "      <td>0.0</td>\n",
       "      <td>0.000000</td>\n",
       "      <td>0.513514</td>\n",
       "      <td>0.324324</td>\n",
       "      <td>0.135135</td>\n",
       "      <td>0.027027</td>\n",
       "      <td>48.313513</td>\n",
       "      <td>15</td>\n",
       "      <td>8</td>\n",
       "      <td>37</td>\n",
       "      <td>1488.0</td>\n",
       "      <td>2.0</td>\n",
       "      <td>2.0</td>\n",
       "      <td>2.0</td>\n",
       "      <td>2.0</td>\n",
       "      <td>2.0</td>\n",
       "      <td>2.0</td>\n",
       "      <td>2.0</td>\n",
       "      <td>2.0</td>\n",
       "      <td>2.0</td>\n",
       "      <td>2.0</td>\n",
       "      <td>2.0</td>\n",
       "      <td>2.0</td>\n",
       "      <td>2.0</td>\n",
       "      <td>2.0</td>\n",
       "      <td>2.0</td>\n",
       "      <td>2.0</td>\n",
       "      <td>2.0</td>\n",
       "      <td>2.0</td>\n",
       "      <td>2.0</td>\n",
       "      <td>2.0</td>\n",
       "      <td>2.0</td>\n",
       "      <td>2.0</td>\n",
       "      <td>2.0</td>\n",
       "      <td>2.0</td>\n",
       "      <td>2.0</td>\n",
       "      <td>2.0</td>\n",
       "      <td>2.0</td>\n",
       "      <td>2.0</td>\n",
       "      <td>2.0</td>\n",
       "      <td>2.0</td>\n",
       "      <td>5.0</td>\n",
       "      <td>39.5</td>\n",
       "      <td>1.0</td>\n",
       "      <td>1.50</td>\n",
       "      <td>16.558161</td>\n",
       "      <td>18.0</td>\n",
       "      <td>4.0</td>\n",
       "      <td>80.0</td>\n",
       "      <td>5.0</td>\n",
       "      <td>5.0</td>\n",
       "      <td>15.0</td>\n",
       "      <td>37.676758</td>\n",
       "      <td>2.0</td>\n",
       "      <td>5.0</td>\n",
       "      <td>0</td>\n",
       "      <td>0</td>\n",
       "      <td>0</td>\n",
       "      <td>1</td>\n",
       "    </tr>\n",
       "  </tbody>\n",
       "</table>\n",
       "</div>"
      ],
      "text/plain": [
       "      city_quadkey  apartment_ratio  offers_in_sites_ratio  studio_ratio  \\\n",
       "0  120310101003320              0.0                    0.0      0.000000   \n",
       "1  120310102131112              0.0                    0.0      0.000000   \n",
       "2  120310121201212              0.0                    0.0      0.047619   \n",
       "3  120310101102202              0.0                    0.0      0.000000   \n",
       "4  120310101102301              0.0                    0.0      0.000000   \n",
       "\n",
       "   rooms_offered_1_ratio  rooms_offered_2_ratio  rooms_offered_3_ratio  \\\n",
       "0               0.666667               0.000000               0.333333   \n",
       "1               0.600000               0.200000               0.000000   \n",
       "2               0.349206               0.428571               0.206349   \n",
       "3               0.486486               0.243243               0.270270   \n",
       "4               0.513514               0.324324               0.135135   \n",
       "\n",
       "   rooms_offered_4_more_ratio  total_area_avg  unique_active_buildings_count  \\\n",
       "0                    0.000000       46.000000                              1   \n",
       "1                    0.200000       60.760000                              4   \n",
       "2                    0.015873       51.480952                             13   \n",
       "3                    0.000000       49.237838                             15   \n",
       "4                    0.027027       48.313513                             15   \n",
       "\n",
       "   unique_active_building_series_count  offer_count   index  art_cnt_isna  \\\n",
       "0                                    1            3  1011.0           2.0   \n",
       "1                                    2            5  2759.0           3.0   \n",
       "2                                    2           63  3769.0           2.0   \n",
       "3                                    8           37  1475.0           2.0   \n",
       "4                                    8           37  1488.0           2.0   \n",
       "\n",
       "   beauty_cnt_isna  build_year_isna  building_id_isna  building_series_id  \\\n",
       "0              2.0              2.0               2.0                 2.0   \n",
       "1              3.0              3.0               3.0                 3.0   \n",
       "2              2.0              2.0               2.0                 2.0   \n",
       "3              2.0              2.0               2.0                 2.0   \n",
       "4              2.0              2.0               2.0                 2.0   \n",
       "\n",
       "   building_series_id_isna building_type  building_type_isna  \\\n",
       "0                      2.0           2.0                 2.0   \n",
       "1                      3.0           3.0                 3.0   \n",
       "2                      2.0           2.0                 2.0   \n",
       "3                      2.0           2.0                 2.0   \n",
       "4                      2.0           2.0                 2.0   \n",
       "\n",
       "   cafe_restaurant_eating_out_cnt_isna  ceiling_height_isna  chain_cnt_isna  \\\n",
       "0                                  2.0                  2.0             2.0   \n",
       "1                                  3.0                  3.0             3.0   \n",
       "2                                  2.0                  2.0             2.0   \n",
       "3                                  2.0                  2.0             2.0   \n",
       "4                                  2.0                  2.0             2.0   \n",
       "\n",
       "   entertainment_cnt_isna  expect_demolition  expect_demolition_isna  \\\n",
       "0                     2.0                2.0                     2.0   \n",
       "1                     3.0                3.0                     3.0   \n",
       "2                     2.0                2.0                     2.0   \n",
       "3                     2.0                2.0                     2.0   \n",
       "4                     2.0                2.0                     2.0   \n",
       "\n",
       "   flats_count_isna  groceries_and_everyday_items_cnt_isna  has_elevator  \\\n",
       "0               2.0                                    2.0           2.0   \n",
       "1               3.0                                    3.0           3.0   \n",
       "2               2.0                                    2.0           2.0   \n",
       "3               2.0                                    2.0           2.0   \n",
       "4               2.0                                    2.0           2.0   \n",
       "\n",
       "   has_elevator_isna  healthcare_cnt_isna  is_in_Moscow  \\\n",
       "0                2.0                  2.0           2.0   \n",
       "1                3.0                  3.0           3.0   \n",
       "2                2.0                  2.0           2.0   \n",
       "3                2.0                  2.0           2.0   \n",
       "4                2.0                  2.0           2.0   \n",
       "\n",
       "   laundry_and_repair_services_cnt_isna  longitude_isna  ring_1  ring_2  \\\n",
       "0                                   2.0             2.0     2.0     2.0   \n",
       "1                                   3.0             3.0     3.0     3.0   \n",
       "2                                   2.0             2.0     2.0     2.0   \n",
       "3                                   2.0             2.0     2.0     2.0   \n",
       "4                                   2.0             2.0     2.0     2.0   \n",
       "\n",
       "   ring_3  shopping_cnt_isna  sport_cnt_isna  unified_address  \\\n",
       "0     2.0                2.0             2.0              2.0   \n",
       "1     3.0                3.0             3.0              3.0   \n",
       "2     2.0                2.0             2.0              2.0   \n",
       "3     2.0                2.0             2.0              2.0   \n",
       "4     2.0                2.0             2.0              2.0   \n",
       "\n",
       "   unified_address_isna  art_cnt  beauty_cnt  build_year  \\\n",
       "0                   2.0      1.0         5.0         0.5   \n",
       "1                   3.0      0.0         0.0        11.0   \n",
       "2                   2.0      5.0         1.0        70.0   \n",
       "3                   2.0      0.0         5.0        38.0   \n",
       "4                   2.0      2.0         5.0        39.5   \n",
       "\n",
       "   cafe_restaurant_eating_out_cnt  ceiling_height  center_dist  chain_cnt  \\\n",
       "0                             5.0            1.35    51.861060       22.0   \n",
       "1                             0.0            3.00    39.168148        2.0   \n",
       "2                             0.0            0.00    48.694889        5.0   \n",
       "3                             2.0            1.35    25.995043       16.0   \n",
       "4                             1.0            1.50    16.558161       18.0   \n",
       "\n",
       "   entertainment_cnt  flats_count  groceries_and_everyday_items_cnt  \\\n",
       "0                1.0        735.0                               7.0   \n",
       "1                2.0         33.0                               2.0   \n",
       "2                1.0         26.0                              11.0   \n",
       "3                9.0        171.5                               7.0   \n",
       "4                4.0         80.0                               5.0   \n",
       "\n",
       "   healthcare_cnt  laundry_and_repair_services_cnt  longitude  shopping_cnt  \\\n",
       "0             1.0                              2.0  37.398581          12.0   \n",
       "1             0.0                              1.0  37.245106           1.0   \n",
       "2            12.0                              1.0  37.380466           4.0   \n",
       "3             1.0                              6.0  37.625065           2.0   \n",
       "4             5.0                             15.0  37.676758           2.0   \n",
       "\n",
       "   sport_cnt  season_fall  season_spring  season_summer  season_winter  \n",
       "0        2.0            1              0              0              0  \n",
       "1        2.0            0              0              0              1  \n",
       "2        0.0            1              0              0              0  \n",
       "3        7.0            1              0              0              0  \n",
       "4        5.0            0              0              0              1  "
      ]
     },
     "execution_count": 43,
     "metadata": {},
     "output_type": "execute_result"
    }
   ],
   "source": [
    "#date_format_train = pd.to_datetime(x_train.month)\n",
    "#date_format_test = pd.to_datetime(x_test.month)\n",
    "#x_train['year'] = date_format_train.dt.year\n",
    "#x_test['year'] = date_format_test.dt.year\n",
    "x_train.drop(['month'], axis='columns', inplace=True)\n",
    "x_test.drop(['month'], axis='columns', inplace=True)\n",
    "x_test['season_fall'] = np.zeros(shape=(6797))\n",
    "x_train.head()"
   ]
  },
  {
   "cell_type": "code",
   "execution_count": 44,
   "id": "5f7235b2",
   "metadata": {},
   "outputs": [
    {
     "data": {
      "text/plain": [
       "(6797, 61)"
      ]
     },
     "execution_count": 44,
     "metadata": {},
     "output_type": "execute_result"
    }
   ],
   "source": [
    "x_test.shape"
   ]
  },
  {
   "cell_type": "code",
   "execution_count": 45,
   "metadata": {
    "ExecuteTime": {
     "end_time": "2021-08-23T17:15:02.676809Z",
     "start_time": "2021-08-23T17:15:02.671812Z"
    },
    "deletable": false,
    "nbgrader": {
     "cell_type": "code",
     "checksum": "bcdc34bd3f09050d8dc33c450e135002",
     "grade": false,
     "grade_id": "cell-62bba7d855192ba5",
     "locked": false,
     "schema_version": 3,
     "solution": true,
     "task": false
    }
   },
   "outputs": [],
   "source": [
    "from sklearn.metrics import make_scorer\n",
    "\n",
    "\n",
    "scorer = make_scorer(mape, greater_is_better=False)\n",
    "\n",
    "lb = LabelEncoder().fit(x_train['building_type'].values)\n",
    "\n",
    "x_train['building_type'] = lb.transform(x_train['building_type'].values)\n",
    "x_test['building_type'] = lb.transform(x_test['building_type'].values)\n",
    "\n",
    "\n",
    "def hyperopt(estimator, params):\n",
    "    \n",
    "    grid = GridSearchCV(\n",
    "        estimator=estimator,\n",
    "        param_grid=params,\n",
    "        scoring=scorer,\n",
    "        cv=3\n",
    "    )\n",
    "    \n",
    "    grid.fit(x_train, y_train)\n",
    "    \n",
    "    # write best params to `best_params`\n",
    "    # your code here\n",
    "    best_params = grid.best_params_\n",
    "    best_model = grid.best_estimator_\n",
    "    \n",
    "    best_model.fit(x_train, y_train)\n",
    "    \n",
    "    score_train = mape(y_train, best_model.predict(x_train))\n",
    "    score_test = mape(y_test, best_model.predict(x_test))\n",
    "    \n",
    "    return score_train, score_test, best_params"
   ]
  },
  {
   "cell_type": "markdown",
   "metadata": {},
   "source": [
    "## Сравнение моделей"
   ]
  },
  {
   "cell_type": "markdown",
   "metadata": {},
   "source": [
    "Подберём для каждой из следующих моделей лучшие гиперпараметры **с помощью функции, которую вы написали выше.**\n",
    "\n",
    "- Линейная модель с l2 регуляризацией\n",
    "- Решающее дерево\n",
    "- Случайный лес\n",
    "- Градиентный бустинг\n",
    "- Метод ближайших соседей"
   ]
  },
  {
   "cell_type": "markdown",
   "metadata": {},
   "source": [
    "### Линейная модель с l2 регуляризацией\n",
    "\n",
    "Попробуем исследовать влияние `alpha` и `max_iter` на результат."
   ]
  },
  {
   "cell_type": "code",
   "execution_count": 46,
   "metadata": {
    "ExecuteTime": {
     "end_time": "2021-08-23T17:15:07.017679Z",
     "start_time": "2021-08-23T17:15:07.015461Z"
    }
   },
   "outputs": [],
   "source": [
    "from sklearn.linear_model import Ridge\n",
    "import warnings\n",
    "warnings.filterwarnings('ignore')\n",
    "\n",
    "model = Ridge()\n",
    "params = {\n",
    "    'alpha' : np.arange(0.5, 1.5, 0.2),\n",
    "    'max_iter' : np.arange(50, 100, 10)\n",
    "}\n",
    "\n",
    "score_train, score_test, best_params = hyperopt(model, params)"
   ]
  },
  {
   "cell_type": "markdown",
   "metadata": {},
   "source": [
    "Запишем в переменную `best_params_ridge` ваши лучшие гиперпараметры для `Ridge`. "
   ]
  },
  {
   "cell_type": "code",
   "execution_count": 47,
   "metadata": {
    "ExecuteTime": {
     "end_time": "2021-08-23T17:15:08.545432Z",
     "start_time": "2021-08-23T17:15:08.543474Z"
    },
    "deletable": false,
    "nbgrader": {
     "cell_type": "code",
     "checksum": "5e5b6fffd6506fb5f86d98c44d1f64a3",
     "grade": false,
     "grade_id": "cell-bd7364e4480e0bd0",
     "locked": false,
     "schema_version": 3,
     "solution": true,
     "task": false
    }
   },
   "outputs": [
    {
     "data": {
      "text/plain": [
       "({'alpha': 0.5, 'max_iter': 50}, 31.682382190659546, 31.228363489926362)"
      ]
     },
     "execution_count": 47,
     "metadata": {},
     "output_type": "execute_result"
    }
   ],
   "source": [
    "# your code here\n",
    "best_param_ridge = best_params\n",
    "best_param_ridge, score_test, score_train"
   ]
  },
  {
   "cell_type": "markdown",
   "metadata": {},
   "source": [
    "### Решающее дерево\n",
    "\n",
    "Попробуем исследовать влияние `max_depth`, `min_samples_split` и `max_features` на результат."
   ]
  },
  {
   "cell_type": "code",
   "execution_count": 48,
   "metadata": {
    "ExecuteTime": {
     "end_time": "2021-08-23T17:15:12.321360Z",
     "start_time": "2021-08-23T17:15:12.309813Z"
    }
   },
   "outputs": [],
   "source": [
    "from sklearn.tree import DecisionTreeRegressor\n",
    "\n",
    "params = {\n",
    "    'max_depth' : np.arange(5, 15),\n",
    "    'min_samples_split' : np.arange(2, 10),\n",
    "    'max_features' : ['auto', 'sqrt', 'log2']\n",
    "}\n",
    "\n",
    "model = DecisionTreeRegressor()\n",
    "\n",
    "score_train, score_test, best_params = hyperopt(model, params)"
   ]
  },
  {
   "cell_type": "code",
   "execution_count": 49,
   "metadata": {
    "ExecuteTime": {
     "end_time": "2021-08-23T17:15:33.573642Z",
     "start_time": "2021-08-23T17:15:32.749864Z"
    },
    "deletable": false,
    "editable": false,
    "nbgrader": {
     "cell_type": "code",
     "checksum": "59130c3c8d5cbaae3e1a3fd87a718dfd",
     "grade": true,
     "grade_id": "cell-c06e22a4475b17e1",
     "locked": true,
     "points": 5,
     "schema_version": 3,
     "solution": false,
     "task": false
    }
   },
   "outputs": [
    {
     "data": {
      "text/plain": [
       "(5.594363112175067,\n",
       " 10.990709836257876,\n",
       " {'max_depth': 14, 'max_features': 'auto', 'min_samples_split': 2})"
      ]
     },
     "execution_count": 49,
     "metadata": {},
     "output_type": "execute_result"
    }
   ],
   "source": [
    "### GRADING\n",
    "\n",
    "best_params_dt = best_params\n",
    "\n",
    "score_train, score_test, best_params"
   ]
  },
  {
   "cell_type": "markdown",
   "metadata": {},
   "source": [
    "### Случайный лес\n",
    "\n",
    "Попробуем исследовать влияние `n_estimators`, `max_depth`, `min_samples_split` и `max_features` на результат. Создадим словарь parameter:value."
   ]
  },
  {
   "cell_type": "code",
   "execution_count": 50,
   "metadata": {
    "ExecuteTime": {
     "end_time": "2021-08-23T17:15:35.434215Z",
     "start_time": "2021-08-23T17:15:35.427446Z"
    }
   },
   "outputs": [],
   "source": [
    "from sklearn.ensemble import RandomForestRegressor\n",
    "\n",
    "params = {\n",
    "    'n_estimators' : np.arange(200, 400, 100),\n",
    "    'max_depth' : np.arange(30, 60, 10),\n",
    "    'min_samples_split' : np.arange(3, 5, 1),\n",
    "    'max_features' : ['auto', 'log2', 'sqrt']\n",
    "}\n",
    "\n",
    "model = RandomForestRegressor()\n",
    "score_train, score_test, best_params = hyperopt(model, params)"
   ]
  },
  {
   "cell_type": "code",
   "execution_count": 51,
   "metadata": {
    "ExecuteTime": {
     "end_time": "2021-08-23T17:15:36.328038Z",
     "start_time": "2021-08-23T17:15:36.325978Z"
    },
    "deletable": false,
    "nbgrader": {
     "cell_type": "code",
     "checksum": "b71699046374ee354dae8d1548fadcc5",
     "grade": false,
     "grade_id": "cell-e63f8e398cb5ae00",
     "locked": false,
     "schema_version": 3,
     "solution": true,
     "task": false
    }
   },
   "outputs": [
    {
     "data": {
      "text/plain": [
       "({'max_depth': 50,\n",
       "  'max_features': 'auto',\n",
       "  'min_samples_split': 3,\n",
       "  'n_estimators': 300,\n",
       "  'n_jobs': -1},\n",
       " 1.4922833859321378,\n",
       " 7.95903576559303)"
      ]
     },
     "execution_count": 51,
     "metadata": {},
     "output_type": "execute_result"
    }
   ],
   "source": [
    "\n",
    "best_params_rf = best_params\n",
    "best_params_rf['n_jobs'] = -1\n",
    "best_params_rf, score_train, score_test"
   ]
  },
  {
   "cell_type": "markdown",
   "metadata": {},
   "source": [
    "### Градиентный бустинг\n",
    "\n",
    "Попробуем исследовать влияние `n_estimators`, `learning_rate`, `subsample` и `min_samples_split` на результат. Создадим словарь parameter:value."
   ]
  },
  {
   "cell_type": "code",
   "execution_count": 54,
   "metadata": {
    "ExecuteTime": {
     "end_time": "2021-08-23T17:15:48.117823Z",
     "start_time": "2021-08-23T17:15:48.115599Z"
    }
   },
   "outputs": [],
   "source": [
    "from sklearn.ensemble import GradientBoostingRegressor\n",
    "\n",
    "model = GradientBoostingRegressor()\n",
    "params = {\n",
    "    'n_estimators' : np.arange(200, 500, 100),\n",
    "    'learning_rate' : np.arange(0.2, 0.7, 0.2),\n",
    "    'min_samples_split' : np.arange(3, 5, 1)\n",
    "}\n",
    "\n",
    "score_train, score_test, best_params = hyperopt(model, params)"
   ]
  },
  {
   "cell_type": "code",
   "execution_count": 53,
   "metadata": {
    "ExecuteTime": {
     "end_time": "2021-08-23T17:16:05.388507Z",
     "start_time": "2021-08-23T17:15:50.054527Z"
    },
    "deletable": false,
    "editable": false,
    "nbgrader": {
     "cell_type": "code",
     "checksum": "fddf337cd639dfb69a9897cf04ef9b75",
     "grade": true,
     "grade_id": "cell-06f3faae791475d6",
     "locked": true,
     "points": 5,
     "schema_version": 3,
     "solution": false,
     "task": false
    }
   },
   "outputs": [
    {
     "data": {
      "text/plain": [
       "({'learning_rate': 0.6000000000000001,\n",
       "  'min_samples_split': 4,\n",
       "  'n_estimators': 400},\n",
       " 6.881264206007281,\n",
       " 10.946923830926972)"
      ]
     },
     "execution_count": 53,
     "metadata": {},
     "output_type": "execute_result"
    }
   ],
   "source": [
    "best_params_gb = best_params\n",
    "best_params_gb, score_train, score_test"
   ]
  },
  {
   "cell_type": "markdown",
   "id": "023b9fb0",
   "metadata": {},
   "source": [
    "#### Сравнение результатов\n"
   ]
  },
  {
   "cell_type": "markdown",
   "id": "e05896b0",
   "metadata": {},
   "source": [
    "Как мы видим наилучшим образом на тестовой выборке себя показал случайный лес."
   ]
  }
 ],
 "metadata": {
  "kernelspec": {
   "display_name": "Python 3",
   "language": "python",
   "name": "python3"
  },
  "language_info": {
   "codemirror_mode": {
    "name": "ipython",
    "version": 3
   },
   "file_extension": ".py",
   "mimetype": "text/x-python",
   "name": "python",
   "nbconvert_exporter": "python",
   "pygments_lexer": "ipython3",
   "version": "3.10.0b1"
  }
 },
 "nbformat": 4,
 "nbformat_minor": 5
}
